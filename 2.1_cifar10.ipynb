{
  "cells": [
    {
      "cell_type": "markdown",
      "metadata": {
        "id": "view-in-github",
        "colab_type": "text"
      },
      "source": [
        "<a href=\"https://colab.research.google.com/github/m-bashari-m/sample-DNN-projects/blob/main/2.1_cifar10.ipynb\" target=\"_parent\"><img src=\"https://colab.research.google.com/assets/colab-badge.svg\" alt=\"Open In Colab\"/></a>"
      ]
    },
    {
      "cell_type": "markdown",
      "metadata": {
        "id": "TSMfCJrV92ng"
      },
      "source": [
        "<center><div style=\"direction:rtl;font-family:B Lotus, B Nazanin, Tahoma\">به نام خدا</div></center>\n",
        "\n",
        "<h1><center><div style=\"direction:rtl;font-family:B Lotus, B Nazanin, Tahoma\">تمرین عملی 2: طبقه بندی تصاویر Cifar10 با شبکه های کانولوشنالی روی googleColab</div></center></h1>\n",
        "\n",
        "[![Run in Google Colab](https://github.com/m-bashari-m/SRU-deeplearning-workshop/blob/master/homework/images/colab.png?raw=1)](https://colab.research.google.com/github/alireza-akhavan/SRU-deeplearning-workshop/blob/master/homework/ex2-conv-cifar10-in-colab.ipynb)"
      ]
    },
    {
      "cell_type": "markdown",
      "metadata": {
        "id": "ILS6KqUt92nk"
      },
      "source": [
        "## <div style=\"direction:rtl;text-align:right;font-family:B Lotus, B Nazanin, Tahoma\">صورت مساله</div>\n",
        "\n",
        "\n",
        "<div style=\"direction:rtl;text-align:right;font-family:Tahoma\">\n",
        "با شبکه های کانولوشنالی آشنا شدیم<br>\n",
        "توصیه می‌شود حتما بعد از تمرین اول این تمرین را حل کنید و قبل از این تمرین نوت بوک زیر را  مرور کنید:\n",
        "</div>\n",
        "\n",
        "[06_ConvolutionalNeuralNetwork-Hoda-Keras.ipynb ](https://nbviewer.jupyter.org/github/alireza-akhavan/SRU-deeplearning-workshop/blob/master/06_ConvolutionalNeuralNetwork-Hoda-Keras.ipynb)\n",
        "\n",
        "<div style=\"direction:rtl;text-align:right;font-family:Tahoma\">\n",
        "در این تمرین از مجموعه داده تصویری cifar10 استفاده خواهیم کرد. \n",
        "<br>\n",
        "خیلی از اوقات ممکنه دسترسی به GPU نداشته باشیم. حخوشبختانه سرویس های آنلاین و رایگانی هستند که توان محاسباتی رایگان در اختیارمان میگذراند. در این تمرین از شما خواسته شده که این نوت بوک را در گوگل کولب اجرا کنید.\n",
        "<br>\n",
        " قبلا در مورد گوگل کولب دو پست آموزشی نوشته شده است که در صورت تمایل به کسب اطلاعات بیشتر میتوانید بخوانید.\n",
        "    اما برای اجرا این تمرین نیازی به این جزئیات نخواهید داشت.\n",
        "</div>\n",
        "\n",
        "[آشنایی با سرویس ابری Google Colab ](http://blog.class.vision/1397/02/google-colab/)\n",
        "\n",
        "[اتصال مستقیم سرویس کولب (Google Colab) به درایو (Google Drive) از طریق فایل سیستم FUSE ](http://blog.class.vision/1397/04/%D8%A7%D8%AA%D8%B5%D8%A7%D9%84-%D9%85%D8%B3%D8%AA%D9%82%DB%8C%D9%85-%D8%B3%D8%B1%D9%88%DB%8C%D8%B3-%DA%A9%D9%88%D9%84%D8%A8-google-colab-%D8%A8%D9%87-%D8%AF%D8%B1%D8%A7%DB%8C%D9%88-google-drive/)\n"
      ]
    },
    {
      "cell_type": "markdown",
      "metadata": {
        "id": "qYSUsa3692no"
      },
      "source": [
        "## <div style=\"direction:rtl;text-align:right;font-family:B Lotus, B Nazanin, Tahoma\">لود کتابخانه های مورد نیاز </div>\n",
        "<div style=\"direction:rtl;text-align:right;font-family:Tahoma\">\n",
        "کتابخانه های مورد نیاز این تمرین لود شده اند\n",
        "<br>\n",
        "در صورت نیاز میتوانید کتابخانه های بیشتری لود کنید:\n",
        "</div>"
      ]
    },
    {
      "cell_type": "code",
      "execution_count": 1,
      "metadata": {
        "id": "Xs_3tlRf92np"
      },
      "outputs": [],
      "source": [
        "from tensorflow import keras\n",
        "from keras.models import Sequential\n",
        "from keras.layers import Dense, Flatten, Dropout, Add, Activation, InputLayer\n",
        "from keras.layers import Conv2D, MaxPooling2D, BatchNormalization, GlobalAveragePooling2D\n",
        "from keras.datasets import cifar10\n",
        "import numpy as np\n",
        "import matplotlib.pyplot as plt\n",
        "%matplotlib inline"
      ]
    },
    {
      "cell_type": "markdown",
      "metadata": {
        "id": "ZUQZGMIX92ns"
      },
      "source": [
        "## <div style=\"direction:rtl;text-align:right;font-family:B Lotus, B Nazanin, Tahoma\">مجموعه داده ی Cifar10 </div>\n",
        "<div style=\"direction:rtl;text-align:right;font-family:Tahoma\">\n",
        "<br>\n",
        "این مجموعه داده تصاویر رنگی در اندازه ی 32 در 32 و در 10 کلاس مختلف شامل ماشین، کامیون، اسب و ... است که در چارچوب کراس موجود است و از همان استفاده میکنیم.\n",
        "<br>\n",
        "اطلاعات بیشتر در مورد این مجموعه داده را از سایت این مجموعه داده میتوانید مطالعه کنید:\n",
        "<br>\n",
        "</div>\n",
        "\n",
        "https://www.cs.toronto.edu/~kriz/cifar.html"
      ]
    },
    {
      "cell_type": "code",
      "execution_count": 2,
      "metadata": {
        "id": "9Y2xbZAv92nt",
        "outputId": "8b367143-ba2f-4926-8a7b-eb98a978c159",
        "colab": {
          "base_uri": "https://localhost:8080/"
        }
      },
      "outputs": [
        {
          "output_type": "stream",
          "name": "stdout",
          "text": [
            "Downloading data from https://www.cs.toronto.edu/~kriz/cifar-10-python.tar.gz\n",
            "170500096/170498071 [==============================] - 6s 0us/step\n",
            "170508288/170498071 [==============================] - 6s 0us/step\n"
          ]
        }
      ],
      "source": [
        "(x_train, y_train), (x_test, y_test) = cifar10.load_data()"
      ]
    },
    {
      "cell_type": "markdown",
      "metadata": {
        "id": "0Aha0o5592nu"
      },
      "source": [
        "## <div style=\"direction:rtl;text-align:right;font-family:B Lotus, B Nazanin, Tahoma\">نگاهی به مجموعه داده بیندازیم...</div>\n",
        "<div style=\"direction:rtl;text-align:right;font-family:Tahoma\">\n",
        "در زیر تصویری که در اندیس 7-ام این مجموعه داده قرار دارد را مشاهده می‌کنیم. این شماره را را به دلخوه عوض کنید و چند تصویر دیگر این مجموعه داده را ببینید.\n",
        "</div>\n"
      ]
    },
    {
      "cell_type": "code",
      "execution_count": null,
      "metadata": {
        "colab": {
          "base_uri": "https://localhost:8080/",
          "height": 283
        },
        "id": "2yEufcCI92nv",
        "outputId": "df60dbe7-cd12-4713-afe0-48b97ffd3ae0"
      },
      "outputs": [
        {
          "output_type": "execute_result",
          "data": {
            "text/plain": [
              "<matplotlib.image.AxesImage at 0x7f6d0a134410>"
            ]
          },
          "metadata": {},
          "execution_count": 3
        },
        {
          "output_type": "display_data",
          "data": {
            "image/png": "[encoded data removed]",
            "text/plain": [
              "<Figure size 432x288 with 1 Axes>"
            ]
          },
          "metadata": {
            "needs_background": "light"
          }
        }
      ],
      "source": [
        "plt.imshow(x_train[7])"
      ]
    },
    {
      "cell_type": "markdown",
      "metadata": {
        "id": "yoW5KaBB92ny"
      },
      "source": [
        "# <div style=\"direction:rtl;text-align:right;font-family:B Lotus, B Nazanin, Tahoma\">سوال 1:</div>\n",
        "<div style=\"direction:rtl;text-align:right;font-family:Tahoma\">\n",
        "ماتریس های تصویر را تبدیل به نوع داده ای float32 کنید و مقادیر پیکسل ها را نرمال کنید و بین 0 و 1 بیاورید.\n",
        "<br>\n",
        "<b>راهنمایی: </b>\n",
        "شما باید متد astype را صدا بزنید و در نهایت مقادیر پیکسل ها را تقسیم بر 255 کنید.</div>"
      ]
    },
    {
      "cell_type": "code",
      "execution_count": 3,
      "metadata": {
        "id": "hqv-HDq792n0"
      },
      "outputs": [],
      "source": [
        "x_train = x_train.astype(np.float32) / 255\n",
        "x_test = x_test.astype(np.float32) / 255"
      ]
    },
    {
      "cell_type": "code",
      "source": [
        "x_train.shape, x_test.shape"
      ],
      "metadata": {
        "id": "TvIba4klKbx2",
        "outputId": "80f1ff71-6491-4a85-f783-e9fc0f2636b5",
        "colab": {
          "base_uri": "https://localhost:8080/"
        }
      },
      "execution_count": null,
      "outputs": [
        {
          "output_type": "execute_result",
          "data": {
            "text/plain": [
              "((50000, 32, 32, 3), (10000, 32, 32, 3))"
            ]
          },
          "metadata": {},
          "execution_count": 12
        }
      ]
    },
    {
      "cell_type": "markdown",
      "metadata": {
        "id": "7raoApJg92n1"
      },
      "source": [
        "# <div style=\"direction:rtl;text-align:right;font-family:B Lotus, B Nazanin, Tahoma\">سوال 2:</div>\n",
        "<div style=\"direction:rtl;text-align:right;font-family:Tahoma\">\n",
        "همان طور که میبینید لیبل ها از نوع عددی هستند. آن ها را تبدیل به فرمت one-hot کنید.<br>\n",
        "</div>\n"
      ]
    },
    {
      "cell_type": "markdown",
      "metadata": {
        "id": "NCyIIoQY92n2"
      },
      "source": [
        "<hr>\n",
        "<div style=\"direction:rtl;text-align:right;font-family:Tahoma\">\n",
        "تعدادی از لیبل ها قبل از تبدیل به فرمت one-hot:</div>"
      ]
    },
    {
      "cell_type": "code",
      "execution_count": null,
      "metadata": {
        "id": "-6K_4bJ292n3",
        "outputId": "d0e418d3-9afa-49c3-a54f-5aa131a104c5"
      },
      "outputs": [
        {
          "data": {
            "text/plain": [
              "array([[6],\n",
              "       [9],\n",
              "       [9],\n",
              "       [4],\n",
              "       [1],\n",
              "       [1],\n",
              "       [2],\n",
              "       [7],\n",
              "       [8],\n",
              "       [3]], dtype=uint8)"
            ]
          },
          "execution_count": 5,
          "metadata": {},
          "output_type": "execute_result"
        }
      ],
      "source": [
        "y_train[0:10]"
      ]
    },
    {
      "cell_type": "code",
      "execution_count": 4,
      "metadata": {
        "id": "4J4Cah8292n4"
      },
      "outputs": [],
      "source": [
        "n_classes = np.max(y_train) + 1\n",
        "y_train = keras.utils.to_categorical(y_train, num_classes=n_classes)\n",
        "y_test = keras.utils.to_categorical(y_test, num_classes=n_classes)"
      ]
    },
    {
      "cell_type": "markdown",
      "metadata": {
        "id": "bGSffc6g92n4"
      },
      "source": [
        "<div style=\"direction:rtl;text-align:right;font-family:Tahoma\">\n",
        "تعدادی از لیبل ها بعد از تبدیل به فرمت one-hot:</div>"
      ]
    },
    {
      "cell_type": "code",
      "execution_count": null,
      "metadata": {
        "colab": {
          "base_uri": "https://localhost:8080/"
        },
        "id": "3CS9fg-Y92n5",
        "outputId": "1d739d0d-2536-4a22-b32e-453e50b78c10"
      },
      "outputs": [
        {
          "output_type": "execute_result",
          "data": {
            "text/plain": [
              "array([[0., 0., 0., 0., 0., 0., 1., 0., 0., 0.],\n",
              "       [0., 0., 0., 0., 0., 0., 0., 0., 0., 1.],\n",
              "       [0., 0., 0., 0., 0., 0., 0., 0., 0., 1.],\n",
              "       [0., 0., 0., 0., 1., 0., 0., 0., 0., 0.],\n",
              "       [0., 1., 0., 0., 0., 0., 0., 0., 0., 0.],\n",
              "       [0., 1., 0., 0., 0., 0., 0., 0., 0., 0.],\n",
              "       [0., 0., 1., 0., 0., 0., 0., 0., 0., 0.],\n",
              "       [0., 0., 0., 0., 0., 0., 0., 1., 0., 0.],\n",
              "       [0., 0., 0., 0., 0., 0., 0., 0., 1., 0.],\n",
              "       [0., 0., 0., 1., 0., 0., 0., 0., 0., 0.]], dtype=float32)"
            ]
          },
          "metadata": {},
          "execution_count": 6
        }
      ],
      "source": [
        "y_train[0:10]"
      ]
    },
    {
      "cell_type": "markdown",
      "metadata": {
        "id": "nGEEQAZW92n6"
      },
      "source": [
        "# <div style=\"direction:rtl;text-align:right;font-family:B Lotus, B Nazanin, Tahoma\">سوال 3:</div>\n",
        "<div style=\"direction:rtl;text-align:right;font-family:Tahoma\">\n",
        "یک شبکه کانولوشنالی با معماری زیر بسازید:\n",
        "<ul>\n",
        "    <li>\n",
        "    یک لایه کانولوشنی با32 فیلتر با سایز فیلتر 3x3 و تابع فعالیت relu\n",
        "    </li>\n",
        "    <li>\n",
        "    لایه ی pooling با pool_size=(2,2)\n",
        "    </li>\n",
        "    <li>\n",
        "    یک لایه کانولوشنی با32 فیلتر با سایز فیلتر 3x3 و تابع فعالیت relu\n",
        "    </li>\n",
        "    <li>\n",
        "    لایه ی pooling با pool_size=(2,2)\n",
        "    </li>\n",
        "    <li>\n",
        "    یک لایه کانولوشنی با64 فیلتر با سایز فیلتر 3x3 و تابع فعالیت relu\n",
        "    </li>\n",
        "    <li>\n",
        "    لایه ی pooling با pool_size=(2,2)\n",
        "    </li>\n",
        "    <li>\n",
        "    استفاده از لایه ی Flatten() . به نظرتون چرا؟\n",
        "    </li>    \n",
        "    <li>\n",
        "    یک لایه Dropout با ترخ 0.5.\n",
        "    </li>\n",
        "    <li>\n",
        "    یک لایه softmax برای احتمالات خروجی. به نظرتون این لایه چند نوران میخواهد؟\n",
        "    </li>    \n",
        " \n",
        "</ul>\n",
        "</div>\n"
      ]
    },
    {
      "cell_type": "code",
      "execution_count": null,
      "metadata": {
        "id": "sgnfyeZr92n8"
      },
      "outputs": [],
      "source": [
        "model = Sequential([\n",
        "            Conv2D(32, (3,3), activation='relu', input_shape=list(x_train.shape[1:])),\n",
        "            MaxPooling2D((2,2)),\n",
        "            Conv2D(32, (3,3), activation='relu'),\n",
        "            MaxPooling2D((2,2)),\n",
        "            Conv2D(64, (3,3), activation='relu'),\n",
        "            MaxPooling2D((2,2)),\n",
        "            Flatten(),\n",
        "            Dropout(.5),\n",
        "            Dense(10, activation='softmax')])"
      ]
    },
    {
      "cell_type": "markdown",
      "metadata": {
        "id": "JyawBDQI92n9"
      },
      "source": [
        "# <div style=\"direction:rtl;text-align:right;font-family:B Lotus, B Nazanin, Tahoma\">سوال 4:</div>\n",
        "<div style=\"direction:rtl;text-align:right;font-family:Tahoma\">\n",
        "مدل را کامپایل کنید و به عنوان optimizer متغیر opt_rms به تابع ارسال کنید. </div>\n"
      ]
    },
    {
      "cell_type": "code",
      "execution_count": null,
      "metadata": {
        "id": "sNMTYXh692n-"
      },
      "outputs": [],
      "source": [
        "opt_rms = keras.optimizers.RMSprop(learning_rate=0.001,decay=1e-6)\n",
        "model.compile(optimizer=opt_rms, loss='categorical_crossentropy', metrics=['accuracy'])"
      ]
    },
    {
      "cell_type": "markdown",
      "metadata": {
        "id": "64VW7Ep092n-"
      },
      "source": [
        "# <div style=\"direction:rtl;text-align:right;font-family:B Lotus, B Nazanin, Tahoma\">سوال 5:</div>\n",
        "<div style=\"direction:rtl;text-align:right;font-family:Tahoma\">\n",
        "با فراخوانی متد fit روی مدل آن را آموزش بدهید. برای سادگی25 ایپاک با سایز بچ 64 بزنید. \n",
        "    <br>\n",
        " به عنوان دیتای validation نیز x_test و y_test را ارسال کنید که در هر سری کارایی روی داده های تست اعلام شود.\n",
        "</div>"
      ]
    },
    {
      "cell_type": "code",
      "execution_count": null,
      "metadata": {
        "colab": {
          "base_uri": "https://localhost:8080/"
        },
        "id": "SM1AOl-r92n_",
        "outputId": "1e14c70e-468b-4c76-d853-f346519df6e8"
      },
      "outputs": [
        {
          "output_type": "stream",
          "name": "stdout",
          "text": [
            "Epoch 1/25\n",
            "782/782 [==============================] - 19s 11ms/step - loss: 1.8336 - accuracy: 0.3238 - val_loss: 1.5650 - val_accuracy: 0.4230\n",
            "Epoch 2/25\n",
            "782/782 [==============================] - 8s 10ms/step - loss: 1.5271 - accuracy: 0.4451 - val_loss: 1.3451 - val_accuracy: 0.5226\n",
            "Epoch 3/25\n",
            "782/782 [==============================] - 8s 11ms/step - loss: 1.3992 - accuracy: 0.4967 - val_loss: 1.4367 - val_accuracy: 0.4931\n",
            "Epoch 4/25\n",
            "782/782 [==============================] - 8s 10ms/step - loss: 1.3252 - accuracy: 0.5249 - val_loss: 1.2573 - val_accuracy: 0.5547\n",
            "Epoch 5/25\n",
            "782/782 [==============================] - 9s 11ms/step - loss: 1.2634 - accuracy: 0.5501 - val_loss: 1.1747 - val_accuracy: 0.5870\n",
            "Epoch 6/25\n",
            "782/782 [==============================] - 8s 10ms/step - loss: 1.2101 - accuracy: 0.5711 - val_loss: 1.3670 - val_accuracy: 0.5320\n",
            "Epoch 7/25\n",
            "782/782 [==============================] - 8s 11ms/step - loss: 1.1713 - accuracy: 0.5851 - val_loss: 1.1048 - val_accuracy: 0.6090\n",
            "Epoch 8/25\n",
            "782/782 [==============================] - 9s 12ms/step - loss: 1.1347 - accuracy: 0.5981 - val_loss: 1.1652 - val_accuracy: 0.5935\n",
            "Epoch 9/25\n",
            "782/782 [==============================] - 8s 10ms/step - loss: 1.1072 - accuracy: 0.6122 - val_loss: 1.0353 - val_accuracy: 0.6381\n",
            "Epoch 10/25\n",
            "782/782 [==============================] - 8s 11ms/step - loss: 1.0777 - accuracy: 0.6209 - val_loss: 1.1029 - val_accuracy: 0.6167\n",
            "Epoch 11/25\n",
            "782/782 [==============================] - 8s 10ms/step - loss: 1.0594 - accuracy: 0.6279 - val_loss: 1.0143 - val_accuracy: 0.6443\n",
            "Epoch 12/25\n",
            "782/782 [==============================] - 8s 11ms/step - loss: 1.0383 - accuracy: 0.6369 - val_loss: 0.9683 - val_accuracy: 0.6580\n",
            "Epoch 13/25\n",
            "782/782 [==============================] - 9s 11ms/step - loss: 1.0208 - accuracy: 0.6416 - val_loss: 1.0487 - val_accuracy: 0.6500\n",
            "Epoch 14/25\n",
            "782/782 [==============================] - 8s 10ms/step - loss: 1.0021 - accuracy: 0.6517 - val_loss: 1.0284 - val_accuracy: 0.6453\n",
            "Epoch 15/25\n",
            "782/782 [==============================] - 8s 10ms/step - loss: 0.9895 - accuracy: 0.6557 - val_loss: 0.9769 - val_accuracy: 0.6502\n",
            "Epoch 16/25\n",
            "782/782 [==============================] - 8s 10ms/step - loss: 0.9737 - accuracy: 0.6590 - val_loss: 0.9275 - val_accuracy: 0.6771\n",
            "Epoch 17/25\n",
            "782/782 [==============================] - 8s 10ms/step - loss: 0.9678 - accuracy: 0.6631 - val_loss: 0.9678 - val_accuracy: 0.6611\n",
            "Epoch 18/25\n",
            "782/782 [==============================] - 8s 11ms/step - loss: 0.9576 - accuracy: 0.6649 - val_loss: 0.8989 - val_accuracy: 0.6924\n",
            "Epoch 19/25\n",
            "782/782 [==============================] - 9s 11ms/step - loss: 0.9430 - accuracy: 0.6701 - val_loss: 0.9834 - val_accuracy: 0.6607\n",
            "Epoch 20/25\n",
            "782/782 [==============================] - 8s 10ms/step - loss: 0.9322 - accuracy: 0.6772 - val_loss: 0.9198 - val_accuracy: 0.6807\n",
            "Epoch 21/25\n",
            "782/782 [==============================] - 8s 10ms/step - loss: 0.9237 - accuracy: 0.6769 - val_loss: 0.8522 - val_accuracy: 0.7045\n",
            "Epoch 22/25\n",
            "782/782 [==============================] - 8s 10ms/step - loss: 0.9156 - accuracy: 0.6809 - val_loss: 0.9455 - val_accuracy: 0.6914\n",
            "Epoch 23/25\n",
            "782/782 [==============================] - 8s 10ms/step - loss: 0.9108 - accuracy: 0.6839 - val_loss: 0.9054 - val_accuracy: 0.6911\n",
            "Epoch 24/25\n",
            "782/782 [==============================] - 8s 11ms/step - loss: 0.9118 - accuracy: 0.6854 - val_loss: 0.8639 - val_accuracy: 0.6998\n",
            "Epoch 25/25\n",
            "782/782 [==============================] - 8s 10ms/step - loss: 0.9020 - accuracy: 0.6836 - val_loss: 0.8476 - val_accuracy: 0.7094\n"
          ]
        }
      ],
      "source": [
        "history = model.fit(x_train, y_train, \n",
        "                    epochs=25, \n",
        "                    batch_size=64, \n",
        "                    validation_data=(x_test, y_test))"
      ]
    },
    {
      "cell_type": "code",
      "source": [
        "import pandas as pd\n",
        "def plot_history(history):\n",
        "  pd.DataFrame(history.history).plot()"
      ],
      "metadata": {
        "id": "X90PTbS9Ix4H"
      },
      "execution_count": 5,
      "outputs": []
    },
    {
      "cell_type": "code",
      "source": [
        "plot_history(history)"
      ],
      "metadata": {
        "id": "VN8Cep6pJAQ7",
        "outputId": "d9da7902-2608-4059-df74-4ce9d4999f92",
        "colab": {
          "base_uri": "https://localhost:8080/",
          "height": 265
        }
      },
      "execution_count": null,
      "outputs": [
        {
          "output_type": "display_data",
          "data": {
            "image/png": "[encoded data removed]",
            "text/plain": [
              "<Figure size 432x288 with 1 Axes>"
            ]
          },
          "metadata": {
            "needs_background": "light"
          }
        }
      ]
    },
    {
      "cell_type": "markdown",
      "metadata": {
        "id": "ygCEOjCt92n_"
      },
      "source": [
        "# <div style=\"direction:rtl;text-align:right;font-family:B Lotus, B Nazanin, Tahoma\">سوال 6:</div>\n",
        "<div style=\"direction:rtl;text-align:right;font-family:Tahoma\">\n",
        "شبکه و هایپرپارامترهای این شبکه را به هر نحوی دوست دارید تغییر دهید تا دقت روی دادگان تست را به حداکثر برسانید.\n",
        "</div>\n"
      ]
    },
    {
      "cell_type": "markdown",
      "source": [
        "## First model"
      ],
      "metadata": {
        "id": "6i2wFPwrlqXa"
      }
    },
    {
      "cell_type": "code",
      "source": [
        "def create_model():\n",
        "  model = Sequential([\n",
        "                    Conv2D(32, (3,3), activation='relu', padding='same', input_shape=(32,32,3)),\n",
        "                    BatchNormalization(),\n",
        "                    Conv2D(32, (3,3), activation='relu', padding='same'),\n",
        "                    BatchNormalization(),\n",
        "                    MaxPooling2D((2,2)),\n",
        "                      \n",
        "                    Conv2D(64, (3,3), activation='relu', padding='same'),\n",
        "                    BatchNormalization(),\n",
        "                    Conv2D(64, (3,3), activation='relu', padding='same'),\n",
        "                    BatchNormalization(),\n",
        "                    MaxPooling2D((2,2)),\n",
        "                      \n",
        "                    Conv2D(128, (3,3), activation='relu', padding='same'),\n",
        "                    BatchNormalization(),\n",
        "                    Conv2D(128, (3,3), activation='relu', padding='same'),\n",
        "                    BatchNormalization(),\n",
        "                    MaxPooling2D((2,2)), \n",
        "\n",
        "                    Flatten(),\n",
        "                    Dense(128, activation='relu'),\n",
        "                    Dropout(.5),\n",
        "                    Dense(10)                  \n",
        "  ])\n",
        "\n",
        "  optimizer = keras.optimizers.Adam()\n",
        "  model.compile(optimizer=optimizer,\n",
        "              loss=keras.losses.CategoricalCrossentropy(from_logits=True),\n",
        "              metrics=['accuracy'])\n",
        "  \n",
        "  return model\n"
      ],
      "metadata": {
        "id": "I9bog8wcg7T5"
      },
      "execution_count": 6,
      "outputs": []
    },
    {
      "cell_type": "code",
      "source": [
        "model = create_model()"
      ],
      "metadata": {
        "id": "qWWq2l6ymKLm"
      },
      "execution_count": 11,
      "outputs": []
    },
    {
      "cell_type": "code",
      "source": [
        "history = model.fit(x_train, y_train,\n",
        "                    epochs=20,\n",
        "                    batch_size=32,\n",
        "                    validation_data=(x_test, y_test))"
      ],
      "metadata": {
        "id": "eeBNR9MtaNdw",
        "outputId": "5687ccfd-251c-4ba9-bb0c-a38ffff7a72b",
        "colab": {
          "base_uri": "https://localhost:8080/"
        }
      },
      "execution_count": 8,
      "outputs": [
        {
          "output_type": "stream",
          "name": "stdout",
          "text": [
            "Epoch 1/20\n",
            "1563/1563 [==============================] - 44s 21ms/step - loss: 1.6501 - accuracy: 0.4035 - val_loss: 1.2738 - val_accuracy: 0.5535\n",
            "Epoch 2/20\n",
            "1563/1563 [==============================] - 29s 19ms/step - loss: 1.2045 - accuracy: 0.5756 - val_loss: 1.1226 - val_accuracy: 0.6103\n",
            "Epoch 3/20\n",
            "1563/1563 [==============================] - 31s 20ms/step - loss: 0.9816 - accuracy: 0.6635 - val_loss: 0.8578 - val_accuracy: 0.7046\n",
            "Epoch 4/20\n",
            "1563/1563 [==============================] - 31s 20ms/step - loss: 0.8326 - accuracy: 0.7218 - val_loss: 0.7701 - val_accuracy: 0.7430\n",
            "Epoch 5/20\n",
            "1563/1563 [==============================] - 31s 20ms/step - loss: 0.7167 - accuracy: 0.7609 - val_loss: 0.7831 - val_accuracy: 0.7345\n",
            "Epoch 6/20\n",
            "1563/1563 [==============================] - 30s 19ms/step - loss: 0.6243 - accuracy: 0.7923 - val_loss: 0.6824 - val_accuracy: 0.7778\n",
            "Epoch 7/20\n",
            "1563/1563 [==============================] - 31s 20ms/step - loss: 0.5464 - accuracy: 0.8159 - val_loss: 0.6307 - val_accuracy: 0.7996\n",
            "Epoch 8/20\n",
            "1563/1563 [==============================] - 31s 20ms/step - loss: 0.4847 - accuracy: 0.8377 - val_loss: 0.6464 - val_accuracy: 0.7924\n",
            "Epoch 9/20\n",
            "1563/1563 [==============================] - 33s 21ms/step - loss: 0.4319 - accuracy: 0.8548 - val_loss: 0.6596 - val_accuracy: 0.8025\n",
            "Epoch 10/20\n",
            "1563/1563 [==============================] - 31s 20ms/step - loss: 0.3824 - accuracy: 0.8716 - val_loss: 0.6383 - val_accuracy: 0.8211\n",
            "Epoch 11/20\n",
            "1563/1563 [==============================] - 31s 20ms/step - loss: 0.3518 - accuracy: 0.8817 - val_loss: 0.6169 - val_accuracy: 0.8145\n",
            "Epoch 12/20\n",
            "1563/1563 [==============================] - 31s 20ms/step - loss: 0.3111 - accuracy: 0.8940 - val_loss: 0.6475 - val_accuracy: 0.8275\n",
            "Epoch 13/20\n",
            "1563/1563 [==============================] - 32s 21ms/step - loss: 0.2856 - accuracy: 0.9030 - val_loss: 0.8284 - val_accuracy: 0.7875\n",
            "Epoch 14/20\n",
            "1563/1563 [==============================] - 31s 20ms/step - loss: 0.2525 - accuracy: 0.9132 - val_loss: 0.6778 - val_accuracy: 0.8211\n",
            "Epoch 15/20\n",
            "1563/1563 [==============================] - 30s 19ms/step - loss: 0.2388 - accuracy: 0.9198 - val_loss: 0.7496 - val_accuracy: 0.8151\n",
            "Epoch 16/20\n",
            "1563/1563 [==============================] - 31s 20ms/step - loss: 0.2165 - accuracy: 0.9274 - val_loss: 0.7201 - val_accuracy: 0.8264\n",
            "Epoch 17/20\n",
            "1563/1563 [==============================] - 31s 20ms/step - loss: 0.1991 - accuracy: 0.9330 - val_loss: 0.8120 - val_accuracy: 0.8080\n",
            "Epoch 18/20\n",
            "1563/1563 [==============================] - 30s 20ms/step - loss: 0.1918 - accuracy: 0.9351 - val_loss: 0.7505 - val_accuracy: 0.8253\n",
            "Epoch 19/20\n",
            "1563/1563 [==============================] - 31s 20ms/step - loss: 0.1716 - accuracy: 0.9428 - val_loss: 0.7591 - val_accuracy: 0.8181\n",
            "Epoch 20/20\n",
            "1563/1563 [==============================] - 31s 20ms/step - loss: 0.1572 - accuracy: 0.9463 - val_loss: 0.8739 - val_accuracy: 0.8106\n"
          ]
        }
      ]
    },
    {
      "cell_type": "code",
      "source": [
        "plot_history(history)"
      ],
      "metadata": {
        "id": "-goQNOHWcfRi",
        "outputId": "b16f8070-b313-4066-922f-1797c96a8a3f",
        "colab": {
          "base_uri": "https://localhost:8080/",
          "height": 265
        }
      },
      "execution_count": 9,
      "outputs": [
        {
          "output_type": "display_data",
          "data": {
            "image/png": "[encoded data removed]",
            "text/plain": [
              "<Figure size 432x288 with 1 Axes>"
            ]
          },
          "metadata": {
            "needs_background": "light"
          }
        }
      ]
    },
    {
      "cell_type": "markdown",
      "source": [
        "Since the model is overfitting, try some regularizations"
      ],
      "metadata": {
        "id": "8BiB-3XRlHDA"
      }
    },
    {
      "cell_type": "markdown",
      "source": [
        "## Second model"
      ],
      "metadata": {
        "id": "lGo3iOoelzy9"
      }
    },
    {
      "cell_type": "code",
      "source": [
        "def create_model2():\n",
        "  model = Sequential([\n",
        "                    Conv2D(32, (3,3), activation='relu', padding='same', input_shape=(32,32,3)),\n",
        "                    BatchNormalization(),\n",
        "                    Conv2D(32, (3,3), activation='relu', padding='same'),\n",
        "                    BatchNormalization(),\n",
        "                    MaxPooling2D((2,2)),\n",
        "                    Dropout(.3),\n",
        "\n",
        "                    Conv2D(64, (3,3), activation='relu', padding='same'),\n",
        "                    BatchNormalization(),\n",
        "                    Conv2D(64, (3,3), activation='relu', padding='same'),\n",
        "                    BatchNormalization(),\n",
        "                    MaxPooling2D((2,2)),\n",
        "                    Dropout(.3),\n",
        "\n",
        "                    Conv2D(128, (3,3), activation='relu', padding='same'),\n",
        "                    BatchNormalization(),\n",
        "                    Conv2D(128, (3,3), activation='relu', padding='same'),\n",
        "                    BatchNormalization(),\n",
        "                    MaxPooling2D((2,2)), \n",
        "                    Dropout(.3),\n",
        "\n",
        "                    Flatten(),\n",
        "                    Dense(200, activation='relu'),\n",
        "                    Dropout(.5),\n",
        "                    Dense(10)                  \n",
        "  ])\n",
        "\n",
        "  optimizer = keras.optimizers.Adam()\n",
        "  model.compile(optimizer=optimizer,\n",
        "              loss=keras.losses.CategoricalCrossentropy(from_logits=True),\n",
        "              metrics=['accuracy'])\n",
        "  \n",
        "  return model"
      ],
      "metadata": {
        "id": "BFXCFwU9ly06"
      },
      "execution_count": 12,
      "outputs": []
    },
    {
      "cell_type": "code",
      "source": [
        "model = create_model2()\n",
        "history = model.fit(x_train, y_train,\n",
        "                    epochs=20,\n",
        "                    batch_size=64,\n",
        "                    validation_data=(x_test, y_test))"
      ],
      "metadata": {
        "id": "HQL4JTMomPti",
        "outputId": "d2d321a6-cb63-4230-bd36-0a5e5d7047d5",
        "colab": {
          "base_uri": "https://localhost:8080/"
        }
      },
      "execution_count": 13,
      "outputs": [
        {
          "output_type": "stream",
          "name": "stdout",
          "text": [
            "Epoch 1/20\n",
            "782/782 [==============================] - 23s 28ms/step - loss: 1.7269 - accuracy: 0.3761 - val_loss: 1.4609 - val_accuracy: 0.4957\n",
            "Epoch 2/20\n",
            "782/782 [==============================] - 20s 25ms/step - loss: 1.2872 - accuracy: 0.5426 - val_loss: 1.0977 - val_accuracy: 0.6154\n",
            "Epoch 3/20\n",
            "782/782 [==============================] - 20s 25ms/step - loss: 1.0691 - accuracy: 0.6288 - val_loss: 0.8947 - val_accuracy: 0.6937\n",
            "Epoch 4/20\n",
            "782/782 [==============================] - 20s 25ms/step - loss: 0.9455 - accuracy: 0.6737 - val_loss: 1.0270 - val_accuracy: 0.6587\n",
            "Epoch 5/20\n",
            "782/782 [==============================] - 20s 26ms/step - loss: 0.8669 - accuracy: 0.7041 - val_loss: 0.8263 - val_accuracy: 0.7221\n",
            "Epoch 6/20\n",
            "782/782 [==============================] - 20s 26ms/step - loss: 0.7925 - accuracy: 0.7322 - val_loss: 0.8368 - val_accuracy: 0.7192\n",
            "Epoch 7/20\n",
            "782/782 [==============================] - 20s 26ms/step - loss: 0.7369 - accuracy: 0.7506 - val_loss: 0.6604 - val_accuracy: 0.7760\n",
            "Epoch 8/20\n",
            "782/782 [==============================] - 20s 26ms/step - loss: 0.6960 - accuracy: 0.7661 - val_loss: 0.6770 - val_accuracy: 0.7714\n",
            "Epoch 9/20\n",
            "782/782 [==============================] - 20s 25ms/step - loss: 0.6462 - accuracy: 0.7807 - val_loss: 0.7199 - val_accuracy: 0.7622\n",
            "Epoch 10/20\n",
            "782/782 [==============================] - 20s 25ms/step - loss: 0.6136 - accuracy: 0.7950 - val_loss: 0.6569 - val_accuracy: 0.7839\n",
            "Epoch 11/20\n",
            "782/782 [==============================] - 20s 25ms/step - loss: 0.5816 - accuracy: 0.8044 - val_loss: 0.6121 - val_accuracy: 0.8003\n",
            "Epoch 12/20\n",
            "782/782 [==============================] - 20s 25ms/step - loss: 0.5631 - accuracy: 0.8116 - val_loss: 0.5911 - val_accuracy: 0.8051\n",
            "Epoch 13/20\n",
            "782/782 [==============================] - 20s 26ms/step - loss: 0.5262 - accuracy: 0.8222 - val_loss: 0.5777 - val_accuracy: 0.8164\n",
            "Epoch 14/20\n",
            "782/782 [==============================] - 20s 26ms/step - loss: 0.5071 - accuracy: 0.8276 - val_loss: 0.6283 - val_accuracy: 0.7948\n",
            "Epoch 15/20\n",
            "782/782 [==============================] - 20s 25ms/step - loss: 0.4856 - accuracy: 0.8362 - val_loss: 0.5384 - val_accuracy: 0.8232\n",
            "Epoch 16/20\n",
            "782/782 [==============================] - 20s 26ms/step - loss: 0.4660 - accuracy: 0.8433 - val_loss: 0.5237 - val_accuracy: 0.8358\n",
            "Epoch 17/20\n",
            "782/782 [==============================] - 20s 25ms/step - loss: 0.4504 - accuracy: 0.8486 - val_loss: 0.5098 - val_accuracy: 0.8329\n",
            "Epoch 18/20\n",
            "782/782 [==============================] - 20s 26ms/step - loss: 0.4364 - accuracy: 0.8508 - val_loss: 0.5384 - val_accuracy: 0.8252\n",
            "Epoch 19/20\n",
            "782/782 [==============================] - 20s 25ms/step - loss: 0.4208 - accuracy: 0.8558 - val_loss: 0.4958 - val_accuracy: 0.8412\n",
            "Epoch 20/20\n",
            "782/782 [==============================] - 20s 25ms/step - loss: 0.4087 - accuracy: 0.8602 - val_loss: 0.5000 - val_accuracy: 0.8381\n"
          ]
        }
      ]
    },
    {
      "cell_type": "code",
      "source": [
        "plot_history(history)"
      ],
      "metadata": {
        "id": "jphM0LnHmbmm",
        "outputId": "c864a72f-cfa8-4919-f611-1e3ef26ce6a7",
        "colab": {
          "base_uri": "https://localhost:8080/",
          "height": 265
        }
      },
      "execution_count": 14,
      "outputs": [
        {
          "output_type": "display_data",
          "data": {
            "image/png": "[encoded data removed]",
            "text/plain": [
              "<Figure size 432x288 with 1 Axes>"
            ]
          },
          "metadata": {
            "needs_background": "light"
          }
        }
      ]
    },
    {
      "cell_type": "code",
      "source": [
        "model.save('model-2-20')"
      ],
      "metadata": {
        "id": "Yke0KuJxqOqn",
        "outputId": "9b32c976-beb1-4e31-d9e5-559b171df619",
        "colab": {
          "base_uri": "https://localhost:8080/"
        }
      },
      "execution_count": 22,
      "outputs": [
        {
          "output_type": "stream",
          "name": "stdout",
          "text": [
            "INFO:tensorflow:Assets written to: model-2-20/assets\n"
          ]
        }
      ]
    },
    {
      "cell_type": "markdown",
      "source": [
        "try more epochs"
      ],
      "metadata": {
        "id": "ZiZ_yeQkqMiG"
      }
    },
    {
      "cell_type": "code",
      "source": [
        "history = model.fit(x_train, y_train,\n",
        "                    epochs=25,\n",
        "                    batch_size=64,\n",
        "                    validation_data=(x_test, y_test),\n",
        "                    initial_epoch=21)"
      ],
      "metadata": {
        "id": "xprY61bQoaSp",
        "outputId": "75183db7-8de7-46b5-f660-26c055cab277",
        "colab": {
          "base_uri": "https://localhost:8080/"
        }
      },
      "execution_count": 20,
      "outputs": [
        {
          "output_type": "stream",
          "name": "stdout",
          "text": [
            "Epoch 21/25\n",
            "782/782 [==============================] - 20s 26ms/step - loss: 0.3395 - accuracy: 0.8837 - val_loss: 0.4826 - val_accuracy: 0.8560\n",
            "Epoch 22/25\n",
            "782/782 [==============================] - 20s 25ms/step - loss: 0.3346 - accuracy: 0.8843 - val_loss: 0.4890 - val_accuracy: 0.8491\n",
            "Epoch 23/25\n",
            "782/782 [==============================] - 20s 25ms/step - loss: 0.3263 - accuracy: 0.8873 - val_loss: 0.5140 - val_accuracy: 0.8429\n",
            "Epoch 24/25\n",
            "782/782 [==============================] - 20s 25ms/step - loss: 0.3203 - accuracy: 0.8899 - val_loss: 0.4783 - val_accuracy: 0.8561\n",
            "Epoch 25/25\n",
            "782/782 [==============================] - 20s 26ms/step - loss: 0.3169 - accuracy: 0.8915 - val_loss: 0.4985 - val_accuracy: 0.8508\n"
          ]
        }
      ]
    },
    {
      "cell_type": "code",
      "source": [
        "model.save('model-2-25')"
      ],
      "metadata": {
        "id": "NI8YPgtXqwD1",
        "outputId": "a770ae2a-630b-4dc1-8cc6-303245630b94",
        "colab": {
          "base_uri": "https://localhost:8080/"
        }
      },
      "execution_count": 23,
      "outputs": [
        {
          "output_type": "stream",
          "name": "stdout",
          "text": [
            "INFO:tensorflow:Assets written to: model-2-25/assets\n"
          ]
        }
      ]
    },
    {
      "cell_type": "markdown",
      "metadata": {
        "id": "yP140GDi92oA"
      },
      "source": [
        "<div class=\"alert alert-block alert-info\">\n",
        "<div style=\"direction:rtl;text-align:right;font-family:B Lotus, B Nazanin, Tahoma\"> دوره مقدماتی یادگیری عمیق<br>علیرضا اخوان پور<br>پنج شنبه، ۱۸ و ۲۵ بهمن ۱۳۹۷<br>\n",
        "</div>\n",
        "<a href=\"http://class.vision\">Class.Vision</a> - <a href=\"http://AkhavanPour.ir\">AkhavanPour.ir</a> - <a href=\"https://github.com/Alireza-Akhavan/\">GitHub</a>\n",
        "\n",
        "</div>"
      ]
    }
  ],
  "metadata": {
    "kernelspec": {
      "display_name": "tensorflow",
      "language": "python",
      "name": "tensorflow"
    },
    "language_info": {
      "codemirror_mode": {
        "name": "ipython",
        "version": 3
      },
      "file_extension": ".py",
      "mimetype": "text/x-python",
      "name": "python",
      "nbconvert_exporter": "python",
      "pygments_lexer": "ipython3",
      "version": "3.6.8"
    },
    "colab": {
      "name": "ex2-conv-cifar10-in-colab.ipynb",
      "provenance": [],
      "include_colab_link": true
    },
    "accelerator": "GPU"
  },
  "nbformat": 4,
  "nbformat_minor": 0
}