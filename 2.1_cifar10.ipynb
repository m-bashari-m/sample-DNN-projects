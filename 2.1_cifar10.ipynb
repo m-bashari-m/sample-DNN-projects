{
  "cells": [
    {
      "cell_type": "markdown",
      "metadata": {
        "id": "view-in-github",
        "colab_type": "text"
      },
      "source": [
        "<a href=\"https://colab.research.google.com/github/m-bashari-m/sample-DNN-projects/blob/main/2.1_cifar10.ipynb\" target=\"_parent\"><img src=\"https://colab.research.google.com/assets/colab-badge.svg\" alt=\"Open In Colab\"/></a>"
      ]
    },
    {
      "cell_type": "markdown",
      "metadata": {
        "id": "TSMfCJrV92ng"
      },
      "source": [
        "<center><div style=\"direction:rtl;font-family:B Lotus, B Nazanin, Tahoma\">به نام خدا</div></center>\n",
        "\n",
        "<h1><center><div style=\"direction:rtl;font-family:B Lotus, B Nazanin, Tahoma\">تمرین عملی 2: طبقه بندی تصاویر Cifar10 با شبکه های کانولوشنالی روی googleColab</div></center></h1>\n",
        "\n",
        "[![Run in Google Colab](https://github.com/m-bashari-m/SRU-deeplearning-workshop/blob/master/homework/images/colab.png?raw=1)](https://colab.research.google.com/github/alireza-akhavan/SRU-deeplearning-workshop/blob/master/homework/ex2-conv-cifar10-in-colab.ipynb)"
      ]
    },
    {
      "cell_type": "markdown",
      "metadata": {
        "id": "ILS6KqUt92nk"
      },
      "source": [
        "## <div style=\"direction:rtl;text-align:right;font-family:B Lotus, B Nazanin, Tahoma\">صورت مساله</div>\n",
        "\n",
        "\n",
        "<div style=\"direction:rtl;text-align:right;font-family:Tahoma\">\n",
        "با شبکه های کانولوشنالی آشنا شدیم<br>\n",
        "توصیه می‌شود حتما بعد از تمرین اول این تمرین را حل کنید و قبل از این تمرین نوت بوک زیر را  مرور کنید:\n",
        "</div>\n",
        "\n",
        "[06_ConvolutionalNeuralNetwork-Hoda-Keras.ipynb ](https://nbviewer.jupyter.org/github/alireza-akhavan/SRU-deeplearning-workshop/blob/master/06_ConvolutionalNeuralNetwork-Hoda-Keras.ipynb)\n",
        "\n",
        "<div style=\"direction:rtl;text-align:right;font-family:Tahoma\">\n",
        "در این تمرین از مجموعه داده تصویری cifar10 استفاده خواهیم کرد. \n",
        "<br>\n",
        "خیلی از اوقات ممکنه دسترسی به GPU نداشته باشیم. حخوشبختانه سرویس های آنلاین و رایگانی هستند که توان محاسباتی رایگان در اختیارمان میگذراند. در این تمرین از شما خواسته شده که این نوت بوک را در گوگل کولب اجرا کنید.\n",
        "<br>\n",
        " قبلا در مورد گوگل کولب دو پست آموزشی نوشته شده است که در صورت تمایل به کسب اطلاعات بیشتر میتوانید بخوانید.\n",
        "    اما برای اجرا این تمرین نیازی به این جزئیات نخواهید داشت.\n",
        "</div>\n",
        "\n",
        "[آشنایی با سرویس ابری Google Colab ](http://blog.class.vision/1397/02/google-colab/)\n",
        "\n",
        "[اتصال مستقیم سرویس کولب (Google Colab) به درایو (Google Drive) از طریق فایل سیستم FUSE ](http://blog.class.vision/1397/04/%D8%A7%D8%AA%D8%B5%D8%A7%D9%84-%D9%85%D8%B3%D8%AA%D9%82%DB%8C%D9%85-%D8%B3%D8%B1%D9%88%DB%8C%D8%B3-%DA%A9%D9%88%D9%84%D8%A8-google-colab-%D8%A8%D9%87-%D8%AF%D8%B1%D8%A7%DB%8C%D9%88-google-drive/)\n"
      ]
    },
    {
      "cell_type": "markdown",
      "metadata": {
        "id": "qYSUsa3692no"
      },
      "source": [
        "## <div style=\"direction:rtl;text-align:right;font-family:B Lotus, B Nazanin, Tahoma\">لود کتابخانه های مورد نیاز </div>\n",
        "<div style=\"direction:rtl;text-align:right;font-family:Tahoma\">\n",
        "کتابخانه های مورد نیاز این تمرین لود شده اند\n",
        "<br>\n",
        "در صورت نیاز میتوانید کتابخانه های بیشتری لود کنید:\n",
        "</div>"
      ]
    },
    {
      "cell_type": "code",
      "execution_count": 1,
      "metadata": {
        "id": "Xs_3tlRf92np"
      },
      "outputs": [],
      "source": [
        "from tensorflow import keras\n",
        "from keras.models import Sequential\n",
        "from keras.layers import Dense, Flatten, Dropout\n",
        "from keras.layers import Conv2D, MaxPooling2D\n",
        "from keras.datasets import cifar10\n",
        "import numpy as np\n",
        "import matplotlib.pyplot as plt\n",
        "%matplotlib inline"
      ]
    },
    {
      "cell_type": "markdown",
      "metadata": {
        "id": "ZUQZGMIX92ns"
      },
      "source": [
        "## <div style=\"direction:rtl;text-align:right;font-family:B Lotus, B Nazanin, Tahoma\">مجموعه داده ی Cifar10 </div>\n",
        "<div style=\"direction:rtl;text-align:right;font-family:Tahoma\">\n",
        "<br>\n",
        "این مجموعه داده تصاویر رنگی در اندازه ی 32 در 32 و در 10 کلاس مختلف شامل ماشین، کامیون، اسب و ... است که در چارچوب کراس موجود است و از همان استفاده میکنیم.\n",
        "<br>\n",
        "اطلاعات بیشتر در مورد این مجموعه داده را از سایت این مجموعه داده میتوانید مطالعه کنید:\n",
        "<br>\n",
        "</div>\n",
        "\n",
        "https://www.cs.toronto.edu/~kriz/cifar.html"
      ]
    },
    {
      "cell_type": "code",
      "execution_count": 2,
      "metadata": {
        "colab": {
          "base_uri": "https://localhost:8080/"
        },
        "id": "9Y2xbZAv92nt",
        "outputId": "1b8fd042-7f73-4749-e163-14df3efae716"
      },
      "outputs": [
        {
          "output_type": "stream",
          "name": "stdout",
          "text": [
            "Downloading data from https://www.cs.toronto.edu/~kriz/cifar-10-python.tar.gz\n",
            "170500096/170498071 [==============================] - 3s 0us/step\n",
            "170508288/170498071 [==============================] - 3s 0us/step\n"
          ]
        }
      ],
      "source": [
        "(x_train, y_train), (x_test, y_test) = cifar10.load_data()"
      ]
    },
    {
      "cell_type": "markdown",
      "metadata": {
        "id": "0Aha0o5592nu"
      },
      "source": [
        "## <div style=\"direction:rtl;text-align:right;font-family:B Lotus, B Nazanin, Tahoma\">نگاهی به مجموعه داده بیندازیم...</div>\n",
        "<div style=\"direction:rtl;text-align:right;font-family:Tahoma\">\n",
        "در زیر تصویری که در اندیس 7-ام این مجموعه داده قرار دارد را مشاهده می‌کنیم. این شماره را را به دلخوه عوض کنید و چند تصویر دیگر این مجموعه داده را ببینید.\n",
        "</div>\n"
      ]
    },
    {
      "cell_type": "code",
      "execution_count": 3,
      "metadata": {
        "colab": {
          "base_uri": "https://localhost:8080/",
          "height": 283
        },
        "id": "2yEufcCI92nv",
        "outputId": "df60dbe7-cd12-4713-afe0-48b97ffd3ae0"
      },
      "outputs": [
        {
          "output_type": "execute_result",
          "data": {
            "text/plain": [
              "<matplotlib.image.AxesImage at 0x7f6d0a134410>"
            ]
          },
          "metadata": {},
          "execution_count": 3
        },
        {
          "output_type": "display_data",
          "data": {
            "image/png": "[encoded data removed]",
            "text/plain": [
              "<Figure size 432x288 with 1 Axes>"
            ]
          },
          "metadata": {
            "needs_background": "light"
          }
        }
      ],
      "source": [
        "plt.imshow(x_train[7])"
      ]
    },
    {
      "cell_type": "markdown",
      "metadata": {
        "id": "yoW5KaBB92ny"
      },
      "source": [
        "# <div style=\"direction:rtl;text-align:right;font-family:B Lotus, B Nazanin, Tahoma\">سوال 1:</div>\n",
        "<div style=\"direction:rtl;text-align:right;font-family:Tahoma\">\n",
        "ماتریس های تصویر را تبدیل به نوع داده ای float32 کنید و مقادیر پیکسل ها را نرمال کنید و بین 0 و 1 بیاورید.\n",
        "<br>\n",
        "<b>راهنمایی: </b>\n",
        "شما باید متد astype را صدا بزنید و در نهایت مقادیر پیکسل ها را تقسیم بر 255 کنید.</div>"
      ]
    },
    {
      "cell_type": "code",
      "execution_count": 4,
      "metadata": {
        "id": "hqv-HDq792n0"
      },
      "outputs": [],
      "source": [
        "x_train = x_train.astype(np.float32) / 255\n",
        "x_test = x_test.astype(np.float32) / 255"
      ]
    },
    {
      "cell_type": "markdown",
      "metadata": {
        "id": "7raoApJg92n1"
      },
      "source": [
        "# <div style=\"direction:rtl;text-align:right;font-family:B Lotus, B Nazanin, Tahoma\">سوال 2:</div>\n",
        "<div style=\"direction:rtl;text-align:right;font-family:Tahoma\">\n",
        "همان طور که میبینید لیبل ها از نوع عددی هستند. آن ها را تبدیل به فرمت one-hot کنید.<br>\n",
        "</div>\n"
      ]
    },
    {
      "cell_type": "markdown",
      "metadata": {
        "id": "NCyIIoQY92n2"
      },
      "source": [
        "<hr>\n",
        "<div style=\"direction:rtl;text-align:right;font-family:Tahoma\">\n",
        "تعدادی از لیبل ها قبل از تبدیل به فرمت one-hot:</div>"
      ]
    },
    {
      "cell_type": "code",
      "execution_count": null,
      "metadata": {
        "id": "-6K_4bJ292n3",
        "outputId": "d0e418d3-9afa-49c3-a54f-5aa131a104c5"
      },
      "outputs": [
        {
          "data": {
            "text/plain": [
              "array([[6],\n",
              "       [9],\n",
              "       [9],\n",
              "       [4],\n",
              "       [1],\n",
              "       [1],\n",
              "       [2],\n",
              "       [7],\n",
              "       [8],\n",
              "       [3]], dtype=uint8)"
            ]
          },
          "execution_count": 5,
          "metadata": {},
          "output_type": "execute_result"
        }
      ],
      "source": [
        "y_train[0:10]"
      ]
    },
    {
      "cell_type": "code",
      "execution_count": 5,
      "metadata": {
        "id": "4J4Cah8292n4"
      },
      "outputs": [],
      "source": [
        "n_classes = np.max(y_train) + 1\n",
        "y_train = keras.utils.to_categorical(y_train, num_classes=n_classes)\n",
        "y_test = keras.utils.to_categorical(y_test, num_classes=n_classes)"
      ]
    },
    {
      "cell_type": "markdown",
      "metadata": {
        "id": "bGSffc6g92n4"
      },
      "source": [
        "<div style=\"direction:rtl;text-align:right;font-family:Tahoma\">\n",
        "تعدادی از لیبل ها بعد از تبدیل به فرمت one-hot:</div>"
      ]
    },
    {
      "cell_type": "code",
      "execution_count": 6,
      "metadata": {
        "colab": {
          "base_uri": "https://localhost:8080/"
        },
        "id": "3CS9fg-Y92n5",
        "outputId": "1d739d0d-2536-4a22-b32e-453e50b78c10"
      },
      "outputs": [
        {
          "output_type": "execute_result",
          "data": {
            "text/plain": [
              "array([[0., 0., 0., 0., 0., 0., 1., 0., 0., 0.],\n",
              "       [0., 0., 0., 0., 0., 0., 0., 0., 0., 1.],\n",
              "       [0., 0., 0., 0., 0., 0., 0., 0., 0., 1.],\n",
              "       [0., 0., 0., 0., 1., 0., 0., 0., 0., 0.],\n",
              "       [0., 1., 0., 0., 0., 0., 0., 0., 0., 0.],\n",
              "       [0., 1., 0., 0., 0., 0., 0., 0., 0., 0.],\n",
              "       [0., 0., 1., 0., 0., 0., 0., 0., 0., 0.],\n",
              "       [0., 0., 0., 0., 0., 0., 0., 1., 0., 0.],\n",
              "       [0., 0., 0., 0., 0., 0., 0., 0., 1., 0.],\n",
              "       [0., 0., 0., 1., 0., 0., 0., 0., 0., 0.]], dtype=float32)"
            ]
          },
          "metadata": {},
          "execution_count": 6
        }
      ],
      "source": [
        "y_train[0:10]"
      ]
    },
    {
      "cell_type": "markdown",
      "metadata": {
        "id": "nGEEQAZW92n6"
      },
      "source": [
        "# <div style=\"direction:rtl;text-align:right;font-family:B Lotus, B Nazanin, Tahoma\">سوال 3:</div>\n",
        "<div style=\"direction:rtl;text-align:right;font-family:Tahoma\">\n",
        "یک شبکه کانولوشنالی با معماری زیر بسازید:\n",
        "<ul>\n",
        "    <li>\n",
        "    یک لایه کانولوشنی با32 فیلتر با سایز فیلتر 3x3 و تابع فعالیت relu\n",
        "    </li>\n",
        "    <li>\n",
        "    لایه ی pooling با pool_size=(2,2)\n",
        "    </li>\n",
        "    <li>\n",
        "    یک لایه کانولوشنی با32 فیلتر با سایز فیلتر 3x3 و تابع فعالیت relu\n",
        "    </li>\n",
        "    <li>\n",
        "    لایه ی pooling با pool_size=(2,2)\n",
        "    </li>\n",
        "    <li>\n",
        "    یک لایه کانولوشنی با64 فیلتر با سایز فیلتر 3x3 و تابع فعالیت relu\n",
        "    </li>\n",
        "    <li>\n",
        "    لایه ی pooling با pool_size=(2,2)\n",
        "    </li>\n",
        "    <li>\n",
        "    استفاده از لایه ی Flatten() . به نظرتون چرا؟\n",
        "    </li>    \n",
        "    <li>\n",
        "    یک لایه Dropout با ترخ 0.5.\n",
        "    </li>\n",
        "    <li>\n",
        "    یک لایه softmax برای احتمالات خروجی. به نظرتون این لایه چند نوران میخواهد؟\n",
        "    </li>    \n",
        " \n",
        "</ul>\n",
        "</div>\n"
      ]
    },
    {
      "cell_type": "code",
      "execution_count": 7,
      "metadata": {
        "id": "sgnfyeZr92n8"
      },
      "outputs": [],
      "source": [
        "model = Sequential([\n",
        "            Conv2D(32, (3,3), activation='relu', input_shape=list(x_train.shape[1:])),\n",
        "            MaxPooling2D((2,2)),\n",
        "            Conv2D(32, (3,3), activation='relu'),\n",
        "            MaxPooling2D((2,2)),\n",
        "            Conv2D(64, (3,3), activation='relu'),\n",
        "            MaxPooling2D((2,2)),\n",
        "            Flatten(),\n",
        "            Dropout(.5),\n",
        "            Dense(10, activation='softmax')])"
      ]
    },
    {
      "cell_type": "markdown",
      "metadata": {
        "id": "JyawBDQI92n9"
      },
      "source": [
        "# <div style=\"direction:rtl;text-align:right;font-family:B Lotus, B Nazanin, Tahoma\">سوال 4:</div>\n",
        "<div style=\"direction:rtl;text-align:right;font-family:Tahoma\">\n",
        "مدل را کامپایل کنید و به عنوان optimizer متغیر opt_rms به تابع ارسال کنید. </div>\n"
      ]
    },
    {
      "cell_type": "code",
      "execution_count": 8,
      "metadata": {
        "id": "sNMTYXh692n-"
      },
      "outputs": [],
      "source": [
        "opt_rms = keras.optimizers.RMSprop(learning_rate=0.001,decay=1e-6)\n",
        "model.compile(optimizer=opt_rms, loss='categorical_crossentropy', metrics=['accuracy'])"
      ]
    },
    {
      "cell_type": "markdown",
      "metadata": {
        "id": "64VW7Ep092n-"
      },
      "source": [
        "# <div style=\"direction:rtl;text-align:right;font-family:B Lotus, B Nazanin, Tahoma\">سوال 5:</div>\n",
        "<div style=\"direction:rtl;text-align:right;font-family:Tahoma\">\n",
        "با فراخوانی متد fit روی مدل آن را آموزش بدهید. برای سادگی25 ایپاک با سایز بچ 64 بزنید. \n",
        "    <br>\n",
        " به عنوان دیتای validation نیز x_test و y_test را ارسال کنید که در هر سری کارایی روی داده های تست اعلام شود.\n",
        "</div>"
      ]
    },
    {
      "cell_type": "code",
      "execution_count": 9,
      "metadata": {
        "colab": {
          "base_uri": "https://localhost:8080/"
        },
        "id": "SM1AOl-r92n_",
        "outputId": "1e14c70e-468b-4c76-d853-f346519df6e8"
      },
      "outputs": [
        {
          "output_type": "stream",
          "name": "stdout",
          "text": [
            "Epoch 1/25\n",
            "782/782 [==============================] - 19s 11ms/step - loss: 1.8336 - accuracy: 0.3238 - val_loss: 1.5650 - val_accuracy: 0.4230\n",
            "Epoch 2/25\n",
            "782/782 [==============================] - 8s 10ms/step - loss: 1.5271 - accuracy: 0.4451 - val_loss: 1.3451 - val_accuracy: 0.5226\n",
            "Epoch 3/25\n",
            "782/782 [==============================] - 8s 11ms/step - loss: 1.3992 - accuracy: 0.4967 - val_loss: 1.4367 - val_accuracy: 0.4931\n",
            "Epoch 4/25\n",
            "782/782 [==============================] - 8s 10ms/step - loss: 1.3252 - accuracy: 0.5249 - val_loss: 1.2573 - val_accuracy: 0.5547\n",
            "Epoch 5/25\n",
            "782/782 [==============================] - 9s 11ms/step - loss: 1.2634 - accuracy: 0.5501 - val_loss: 1.1747 - val_accuracy: 0.5870\n",
            "Epoch 6/25\n",
            "782/782 [==============================] - 8s 10ms/step - loss: 1.2101 - accuracy: 0.5711 - val_loss: 1.3670 - val_accuracy: 0.5320\n",
            "Epoch 7/25\n",
            "782/782 [==============================] - 8s 11ms/step - loss: 1.1713 - accuracy: 0.5851 - val_loss: 1.1048 - val_accuracy: 0.6090\n",
            "Epoch 8/25\n",
            "782/782 [==============================] - 9s 12ms/step - loss: 1.1347 - accuracy: 0.5981 - val_loss: 1.1652 - val_accuracy: 0.5935\n",
            "Epoch 9/25\n",
            "782/782 [==============================] - 8s 10ms/step - loss: 1.1072 - accuracy: 0.6122 - val_loss: 1.0353 - val_accuracy: 0.6381\n",
            "Epoch 10/25\n",
            "782/782 [==============================] - 8s 11ms/step - loss: 1.0777 - accuracy: 0.6209 - val_loss: 1.1029 - val_accuracy: 0.6167\n",
            "Epoch 11/25\n",
            "782/782 [==============================] - 8s 10ms/step - loss: 1.0594 - accuracy: 0.6279 - val_loss: 1.0143 - val_accuracy: 0.6443\n",
            "Epoch 12/25\n",
            "782/782 [==============================] - 8s 11ms/step - loss: 1.0383 - accuracy: 0.6369 - val_loss: 0.9683 - val_accuracy: 0.6580\n",
            "Epoch 13/25\n",
            "782/782 [==============================] - 9s 11ms/step - loss: 1.0208 - accuracy: 0.6416 - val_loss: 1.0487 - val_accuracy: 0.6500\n",
            "Epoch 14/25\n",
            "782/782 [==============================] - 8s 10ms/step - loss: 1.0021 - accuracy: 0.6517 - val_loss: 1.0284 - val_accuracy: 0.6453\n",
            "Epoch 15/25\n",
            "782/782 [==============================] - 8s 10ms/step - loss: 0.9895 - accuracy: 0.6557 - val_loss: 0.9769 - val_accuracy: 0.6502\n",
            "Epoch 16/25\n",
            "782/782 [==============================] - 8s 10ms/step - loss: 0.9737 - accuracy: 0.6590 - val_loss: 0.9275 - val_accuracy: 0.6771\n",
            "Epoch 17/25\n",
            "782/782 [==============================] - 8s 10ms/step - loss: 0.9678 - accuracy: 0.6631 - val_loss: 0.9678 - val_accuracy: 0.6611\n",
            "Epoch 18/25\n",
            "782/782 [==============================] - 8s 11ms/step - loss: 0.9576 - accuracy: 0.6649 - val_loss: 0.8989 - val_accuracy: 0.6924\n",
            "Epoch 19/25\n",
            "782/782 [==============================] - 9s 11ms/step - loss: 0.9430 - accuracy: 0.6701 - val_loss: 0.9834 - val_accuracy: 0.6607\n",
            "Epoch 20/25\n",
            "782/782 [==============================] - 8s 10ms/step - loss: 0.9322 - accuracy: 0.6772 - val_loss: 0.9198 - val_accuracy: 0.6807\n",
            "Epoch 21/25\n",
            "782/782 [==============================] - 8s 10ms/step - loss: 0.9237 - accuracy: 0.6769 - val_loss: 0.8522 - val_accuracy: 0.7045\n",
            "Epoch 22/25\n",
            "782/782 [==============================] - 8s 10ms/step - loss: 0.9156 - accuracy: 0.6809 - val_loss: 0.9455 - val_accuracy: 0.6914\n",
            "Epoch 23/25\n",
            "782/782 [==============================] - 8s 10ms/step - loss: 0.9108 - accuracy: 0.6839 - val_loss: 0.9054 - val_accuracy: 0.6911\n",
            "Epoch 24/25\n",
            "782/782 [==============================] - 8s 11ms/step - loss: 0.9118 - accuracy: 0.6854 - val_loss: 0.8639 - val_accuracy: 0.6998\n",
            "Epoch 25/25\n",
            "782/782 [==============================] - 8s 10ms/step - loss: 0.9020 - accuracy: 0.6836 - val_loss: 0.8476 - val_accuracy: 0.7094\n"
          ]
        }
      ],
      "source": [
        "history = model.fit(x_train, y_train, \n",
        "                    epochs=25, \n",
        "                    batch_size=64, \n",
        "                    validation_data=(x_test, y_test))"
      ]
    },
    {
      "cell_type": "code",
      "source": [
        "import pandas as pd\n",
        "def plot_history(history):\n",
        "  pd.DataFrame(history.history).plot()"
      ],
      "metadata": {
        "id": "X90PTbS9Ix4H"
      },
      "execution_count": 10,
      "outputs": []
    },
    {
      "cell_type": "code",
      "source": [
        "plot_history(history)"
      ],
      "metadata": {
        "id": "VN8Cep6pJAQ7",
        "outputId": "d9da7902-2608-4059-df74-4ce9d4999f92",
        "colab": {
          "base_uri": "https://localhost:8080/",
          "height": 265
        }
      },
      "execution_count": 12,
      "outputs": [
        {
          "output_type": "display_data",
          "data": {
            "image/png": "[encoded data removed]",
            "text/plain": [
              "<Figure size 432x288 with 1 Axes>"
            ]
          },
          "metadata": {
            "needs_background": "light"
          }
        }
      ]
    },
    {
      "cell_type": "code",
      "source": [
        "model2 = Sequential([\n",
        "            Conv2D(32, (3,3), activation='relu', input_shape=list(x_train.shape[1:])),\n",
        "            MaxPooling2D((2,2)),\n",
        "            Conv2D(32, (3,3), activation='relu'),\n",
        "            Conv2D(64, (3,3), activation='relu'),\n",
        "            MaxPooling2D((2,2)),\n",
        "            Conv2D(64, (3,3), activation='relu'),\n",
        "            Flatten(),\n",
        "            Dropout(.5),\n",
        "            Dense(10, activation='softmax')])"
      ],
      "metadata": {
        "id": "Jx688movJvpv"
      },
      "execution_count": 60,
      "outputs": []
    },
    {
      "cell_type": "code",
      "source": [
        "model2.summary()"
      ],
      "metadata": {
        "id": "pR4IByeNLzDt",
        "outputId": "6b49413f-ed6d-4f8e-d021-dd7c5ea8fecf",
        "colab": {
          "base_uri": "https://localhost:8080/"
        }
      },
      "execution_count": 22,
      "outputs": [
        {
          "output_type": "stream",
          "name": "stdout",
          "text": [
            "Model: \"sequential_2\"\n",
            "_________________________________________________________________\n",
            " Layer (type)                Output Shape              Param #   \n",
            "=================================================================\n",
            " conv2d_8 (Conv2D)           (None, 30, 30, 32)        896       \n",
            "                                                                 \n",
            " conv2d_9 (Conv2D)           (None, 28, 28, 32)        9248      \n",
            "                                                                 \n",
            " max_pooling2d_5 (MaxPooling  (None, 14, 14, 32)       0         \n",
            " 2D)                                                             \n",
            "                                                                 \n",
            " conv2d_10 (Conv2D)          (None, 12, 12, 64)        18496     \n",
            "                                                                 \n",
            " conv2d_11 (Conv2D)          (None, 10, 10, 64)        36928     \n",
            "                                                                 \n",
            " max_pooling2d_6 (MaxPooling  (None, 5, 5, 64)         0         \n",
            " 2D)                                                             \n",
            "                                                                 \n",
            " conv2d_12 (Conv2D)          (None, 3, 3, 128)         73856     \n",
            "                                                                 \n",
            " flatten_2 (Flatten)         (None, 1152)              0         \n",
            "                                                                 \n",
            " dense_3 (Dense)             (None, 100)               115300    \n",
            "                                                                 \n",
            " dropout_2 (Dropout)         (None, 100)               0         \n",
            "                                                                 \n",
            " dense_4 (Dense)             (None, 10)                1010      \n",
            "                                                                 \n",
            "=================================================================\n",
            "Total params: 255,734\n",
            "Trainable params: 255,734\n",
            "Non-trainable params: 0\n",
            "_________________________________________________________________\n"
          ]
        }
      ]
    },
    {
      "cell_type": "code",
      "source": [
        "optimizer = keras.optimizers.RMSprop(learning_rate=1e-3, decay=1e-6)\n",
        "model2.compile(optimizer=optimizer,\n",
        "              loss = 'categorical_crossentropy',\n",
        "              metrics=['accuracy'])"
      ],
      "metadata": {
        "id": "vbnmk9rIJN7Y"
      },
      "execution_count": 61,
      "outputs": []
    },
    {
      "cell_type": "code",
      "source": [
        "history = model2.fit(x_train, y_train,\n",
        "                    epochs=30, \n",
        "                    batch_size=64,\n",
        "                    validation_data=(x_test, y_test))"
      ],
      "metadata": {
        "id": "wDwAIWUOKUfv",
        "outputId": "44605d36-1223-49bd-b1c1-9d5b6350cfe5",
        "colab": {
          "base_uri": "https://localhost:8080/"
        }
      },
      "execution_count": 62,
      "outputs": [
        {
          "output_type": "stream",
          "name": "stdout",
          "text": [
            "Epoch 1/30\n",
            "782/782 [==============================] - 10s 12ms/step - loss: 1.7675 - accuracy: 0.3514 - val_loss: 1.4377 - val_accuracy: 0.4818\n",
            "Epoch 2/30\n",
            "782/782 [==============================] - 9s 11ms/step - loss: 1.4092 - accuracy: 0.4933 - val_loss: 1.3417 - val_accuracy: 0.5166\n",
            "Epoch 3/30\n",
            "782/782 [==============================] - 8s 11ms/step - loss: 1.2599 - accuracy: 0.5513 - val_loss: 1.1930 - val_accuracy: 0.5770\n",
            "Epoch 4/30\n",
            "782/782 [==============================] - 8s 11ms/step - loss: 1.1587 - accuracy: 0.5882 - val_loss: 1.1793 - val_accuracy: 0.5741\n",
            "Epoch 5/30\n",
            "782/782 [==============================] - 8s 11ms/step - loss: 1.0799 - accuracy: 0.6225 - val_loss: 1.1868 - val_accuracy: 0.5760\n",
            "Epoch 6/30\n",
            "782/782 [==============================] - 9s 11ms/step - loss: 1.0125 - accuracy: 0.6448 - val_loss: 0.9709 - val_accuracy: 0.6607\n",
            "Epoch 7/30\n",
            "782/782 [==============================] - 9s 11ms/step - loss: 0.9695 - accuracy: 0.6625 - val_loss: 1.1176 - val_accuracy: 0.6025\n",
            "Epoch 8/30\n",
            "782/782 [==============================] - 8s 11ms/step - loss: 0.9219 - accuracy: 0.6770 - val_loss: 1.0402 - val_accuracy: 0.6587\n",
            "Epoch 9/30\n",
            "782/782 [==============================] - 9s 11ms/step - loss: 0.8901 - accuracy: 0.6880 - val_loss: 1.0158 - val_accuracy: 0.6447\n",
            "Epoch 10/30\n",
            "782/782 [==============================] - 8s 11ms/step - loss: 0.8639 - accuracy: 0.7004 - val_loss: 0.8908 - val_accuracy: 0.6909\n",
            "Epoch 11/30\n",
            "782/782 [==============================] - 9s 11ms/step - loss: 0.8383 - accuracy: 0.7092 - val_loss: 0.9728 - val_accuracy: 0.6714\n",
            "Epoch 12/30\n",
            "782/782 [==============================] - 8s 11ms/step - loss: 0.8134 - accuracy: 0.7184 - val_loss: 1.0617 - val_accuracy: 0.6308\n",
            "Epoch 13/30\n",
            "782/782 [==============================] - 8s 11ms/step - loss: 0.7995 - accuracy: 0.7244 - val_loss: 1.0125 - val_accuracy: 0.6820\n",
            "Epoch 14/30\n",
            "782/782 [==============================] - 8s 11ms/step - loss: 0.7800 - accuracy: 0.7314 - val_loss: 0.8453 - val_accuracy: 0.7198\n",
            "Epoch 15/30\n",
            "782/782 [==============================] - 8s 11ms/step - loss: 0.7649 - accuracy: 0.7358 - val_loss: 0.8530 - val_accuracy: 0.7122\n",
            "Epoch 16/30\n",
            "782/782 [==============================] - 9s 11ms/step - loss: 0.7621 - accuracy: 0.7368 - val_loss: 1.1279 - val_accuracy: 0.6411\n",
            "Epoch 17/30\n",
            "782/782 [==============================] - 8s 11ms/step - loss: 0.7488 - accuracy: 0.7408 - val_loss: 1.0084 - val_accuracy: 0.6537\n",
            "Epoch 18/30\n",
            "782/782 [==============================] - 8s 11ms/step - loss: 0.7432 - accuracy: 0.7446 - val_loss: 0.8781 - val_accuracy: 0.7032\n",
            "Epoch 19/30\n",
            "782/782 [==============================] - 8s 11ms/step - loss: 0.7358 - accuracy: 0.7475 - val_loss: 0.8973 - val_accuracy: 0.7041\n",
            "Epoch 20/30\n",
            "782/782 [==============================] - 8s 11ms/step - loss: 0.7331 - accuracy: 0.7487 - val_loss: 0.9402 - val_accuracy: 0.6879\n",
            "Epoch 21/30\n",
            "782/782 [==============================] - 8s 11ms/step - loss: 0.7226 - accuracy: 0.7536 - val_loss: 0.8957 - val_accuracy: 0.7099\n",
            "Epoch 22/30\n",
            "782/782 [==============================] - 8s 11ms/step - loss: 0.7181 - accuracy: 0.7539 - val_loss: 0.8639 - val_accuracy: 0.7174\n",
            "Epoch 23/30\n",
            "782/782 [==============================] - 8s 11ms/step - loss: 0.7163 - accuracy: 0.7576 - val_loss: 0.9621 - val_accuracy: 0.6876\n",
            "Epoch 24/30\n",
            "782/782 [==============================] - 9s 11ms/step - loss: 0.7151 - accuracy: 0.7565 - val_loss: 1.1258 - val_accuracy: 0.6579\n",
            "Epoch 25/30\n",
            "782/782 [==============================] - 8s 11ms/step - loss: 0.7110 - accuracy: 0.7604 - val_loss: 0.9519 - val_accuracy: 0.7031\n",
            "Epoch 26/30\n",
            "782/782 [==============================] - 8s 10ms/step - loss: 0.7100 - accuracy: 0.7582 - val_loss: 0.9194 - val_accuracy: 0.7155\n",
            "Epoch 27/30\n",
            "782/782 [==============================] - 8s 11ms/step - loss: 0.7103 - accuracy: 0.7595 - val_loss: 0.9580 - val_accuracy: 0.7230\n",
            "Epoch 28/30\n",
            "782/782 [==============================] - 8s 10ms/step - loss: 0.6995 - accuracy: 0.7648 - val_loss: 1.1277 - val_accuracy: 0.6609\n",
            "Epoch 29/30\n",
            "782/782 [==============================] - 8s 11ms/step - loss: 0.7119 - accuracy: 0.7620 - val_loss: 1.2078 - val_accuracy: 0.7164\n",
            "Epoch 30/30\n",
            "782/782 [==============================] - 8s 11ms/step - loss: 0.7092 - accuracy: 0.7601 - val_loss: 0.8955 - val_accuracy: 0.7268\n"
          ]
        }
      ]
    },
    {
      "cell_type": "code",
      "source": [
        "plot_history(history)"
      ],
      "metadata": {
        "id": "oL3r6vwEPDnd",
        "outputId": "4ad0384d-33eb-4ff1-b94a-37f4d562dc6e",
        "colab": {
          "base_uri": "https://localhost:8080/",
          "height": 265
        }
      },
      "execution_count": 63,
      "outputs": [
        {
          "output_type": "display_data",
          "data": {
            "image/png": "[encoded data removed]",
            "text/plain": [
              "<Figure size 432x288 with 1 Axes>"
            ]
          },
          "metadata": {
            "needs_background": "light"
          }
        }
      ]
    },
    {
      "cell_type": "markdown",
      "metadata": {
        "id": "ygCEOjCt92n_"
      },
      "source": [
        "# <div style=\"direction:rtl;text-align:right;font-family:B Lotus, B Nazanin, Tahoma\">سوال 6:</div>\n",
        "<div style=\"direction:rtl;text-align:right;font-family:Tahoma\">\n",
        "شبکه و هایپرپارامترهای این شبکه را به هر نحوی دوست دارید تغییر دهید تا دقت روی دادگان تست را به حداکثر برسانید.\n",
        "</div>\n"
      ]
    },
    {
      "cell_type": "markdown",
      "metadata": {
        "id": "yP140GDi92oA"
      },
      "source": [
        "<div class=\"alert alert-block alert-info\">\n",
        "<div style=\"direction:rtl;text-align:right;font-family:B Lotus, B Nazanin, Tahoma\"> دوره مقدماتی یادگیری عمیق<br>علیرضا اخوان پور<br>پنج شنبه، ۱۸ و ۲۵ بهمن ۱۳۹۷<br>\n",
        "</div>\n",
        "<a href=\"http://class.vision\">Class.Vision</a> - <a href=\"http://AkhavanPour.ir\">AkhavanPour.ir</a> - <a href=\"https://github.com/Alireza-Akhavan/\">GitHub</a>\n",
        "\n",
        "</div>"
      ]
    }
  ],
  "metadata": {
    "kernelspec": {
      "display_name": "tensorflow",
      "language": "python",
      "name": "tensorflow"
    },
    "language_info": {
      "codemirror_mode": {
        "name": "ipython",
        "version": 3
      },
      "file_extension": ".py",
      "mimetype": "text/x-python",
      "name": "python",
      "nbconvert_exporter": "python",
      "pygments_lexer": "ipython3",
      "version": "3.6.8"
    },
    "colab": {
      "name": "ex2-conv-cifar10-in-colab.ipynb",
      "provenance": [],
      "include_colab_link": true
    },
    "accelerator": "GPU"
  },
  "nbformat": 4,
  "nbformat_minor": 0
}