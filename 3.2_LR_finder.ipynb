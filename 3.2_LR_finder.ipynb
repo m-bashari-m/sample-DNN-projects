{
  "nbformat": 4,
  "nbformat_minor": 0,
  "metadata": {
    "colab": {
      "name": "3.2_LR-finder.ipynb",
      "provenance": [],
      "authorship_tag": "ABX9TyMFpi8DIN25pMCmcNe7QVO1",
      "include_colab_link": true
    },
    "kernelspec": {
      "name": "python3",
      "display_name": "Python 3"
    },
    "language_info": {
      "name": "python"
    }
  },
  "cells": [
    {
      "cell_type": "markdown",
      "metadata": {
        "id": "view-in-github",
        "colab_type": "text"
      },
      "source": [
        "<a href=\"https://colab.research.google.com/github/m-bashari-m/sample-DNN-projects/blob/main/3.2_LR_finder.ipynb\" target=\"_parent\"><img src=\"https://colab.research.google.com/assets/colab-badge.svg\" alt=\"Open In Colab\"/></a>"
      ]
    },
    {
      "cell_type": "code",
      "execution_count": 1,
      "metadata": {
        "colab": {
          "base_uri": "https://localhost:8080/"
        },
        "id": "XGegfA1ZpzKZ",
        "outputId": "8ceecd8d-4843-4f48-91e2-e49d16212179"
      },
      "outputs": [
        {
          "output_type": "stream",
          "name": "stdout",
          "text": [
            "--2022-03-03 16:42:38--  https://raw.githubusercontent.com/m-bashari-m/tf2-tutorial/master/callbacks/learningratefinder.py\n",
            "Resolving raw.githubusercontent.com (raw.githubusercontent.com)... 185.199.108.133, 185.199.109.133, 185.199.110.133, ...\n",
            "Connecting to raw.githubusercontent.com (raw.githubusercontent.com)|185.199.108.133|:443... connected.\n",
            "HTTP request sent, awaiting response... 200 OK\n",
            "Length: 5439 (5.3K) [text/plain]\n",
            "Saving to: ‘learningratefinder.py’\n",
            "\n",
            "\rlearningratefinder.   0%[                    ]       0  --.-KB/s               \rlearningratefinder. 100%[===================>]   5.31K  --.-KB/s    in 0s      \n",
            "\n",
            "2022-03-03 16:42:38 (53.2 MB/s) - ‘learningratefinder.py’ saved [5439/5439]\n",
            "\n",
            "--2022-03-03 16:42:38--  http://lr-finder.py/\n",
            "Resolving lr-finder.py (lr-finder.py)... failed: Name or service not known.\n",
            "wget: unable to resolve host address ‘lr-finder.py’\n",
            "FINISHED --2022-03-03 16:42:39--\n",
            "Total wall clock time: 0.1s\n",
            "Downloaded: 1 files, 5.3K in 0s (53.2 MB/s)\n"
          ]
        }
      ],
      "source": [
        "!wget https://raw.githubusercontent.com/m-bashari-m/tf2-tutorial/master/callbacks/learningratefinder.py lr-finder.py"
      ]
    },
    {
      "cell_type": "code",
      "source": [
        "!wget https://raw.githubusercontent.com/Alireza-Akhavan/SRU-deeplearning-workshop/master/dataset.py\n",
        "!mkdir dataset\n",
        "!wget https://github.com/Alireza-Akhavan/SRU-deeplearning-workshop/raw/master/dataset/Data_hoda_full.mat -P dataset"
      ],
      "metadata": {
        "colab": {
          "base_uri": "https://localhost:8080/"
        },
        "id": "YoYYeM28rPuM",
        "outputId": "cac8fa85-577b-44cf-ad4d-6ea6970ea76b"
      },
      "execution_count": 2,
      "outputs": [
        {
          "output_type": "stream",
          "name": "stdout",
          "text": [
            "--2022-03-03 16:46:48--  https://raw.githubusercontent.com/Alireza-Akhavan/SRU-deeplearning-workshop/master/dataset.py\n",
            "Resolving raw.githubusercontent.com (raw.githubusercontent.com)... 185.199.108.133, 185.199.109.133, 185.199.110.133, ...\n",
            "Connecting to raw.githubusercontent.com (raw.githubusercontent.com)|185.199.108.133|:443... connected.\n",
            "HTTP request sent, awaiting response... 200 OK\n",
            "Length: 929 [text/plain]\n",
            "Saving to: ‘dataset.py’\n",
            "\n",
            "\rdataset.py            0%[                    ]       0  --.-KB/s               \rdataset.py          100%[===================>]     929  --.-KB/s    in 0s      \n",
            "\n",
            "2022-03-03 16:46:48 (81.8 MB/s) - ‘dataset.py’ saved [929/929]\n",
            "\n",
            "--2022-03-03 16:46:48--  https://github.com/Alireza-Akhavan/SRU-deeplearning-workshop/raw/master/dataset/Data_hoda_full.mat\n",
            "Resolving github.com (github.com)... 140.82.113.3\n",
            "Connecting to github.com (github.com)|140.82.113.3|:443... connected.\n",
            "HTTP request sent, awaiting response... 302 Found\n",
            "Location: https://raw.githubusercontent.com/Alireza-Akhavan/SRU-deeplearning-workshop/master/dataset/Data_hoda_full.mat [following]\n",
            "--2022-03-03 16:46:49--  https://raw.githubusercontent.com/Alireza-Akhavan/SRU-deeplearning-workshop/master/dataset/Data_hoda_full.mat\n",
            "Resolving raw.githubusercontent.com (raw.githubusercontent.com)... 185.199.108.133, 185.199.109.133, 185.199.110.133, ...\n",
            "Connecting to raw.githubusercontent.com (raw.githubusercontent.com)|185.199.108.133|:443... connected.\n",
            "HTTP request sent, awaiting response... 200 OK\n",
            "Length: 3989009 (3.8M) [application/octet-stream]\n",
            "Saving to: ‘dataset/Data_hoda_full.mat’\n",
            "\n",
            "Data_hoda_full.mat  100%[===================>]   3.80M  --.-KB/s    in 0.01s   \n",
            "\n",
            "2022-03-03 16:46:49 (299 MB/s) - ‘dataset/Data_hoda_full.mat’ saved [3989009/3989009]\n",
            "\n"
          ]
        }
      ]
    },
    {
      "cell_type": "code",
      "source": [
        "from learningratefinder import LearningRateFinder as LRFinder \n",
        "from tensorflow import keras\n",
        "from keras import layers\n",
        "from keras.models import Sequential\n",
        "import numpy as np\n",
        "from dataset import load_hoda\n",
        "import matplotlib.pyplot as plt"
      ],
      "metadata": {
        "id": "SH09Wa4fqTsm"
      },
      "execution_count": 3,
      "outputs": []
    },
    {
      "cell_type": "code",
      "source": [
        "np.random.seed(123)  # for reproducibility\n",
        "\n",
        "# Load pre-shuffled HODA data into train and test sets\n",
        "x_train_original, y_train_original, x_test_original, y_test_original = load_hoda(\n",
        "                                                                        training_sample_size=3500,\n",
        "                                                                        test_sample_size=400,size=28)"
      ],
      "metadata": {
        "id": "zoGkPGusrYwY"
      },
      "execution_count": 5,
      "outputs": []
    },
    {
      "cell_type": "code",
      "source": [
        "# Preprocess input data\n",
        "''' 3.1: input data in numpy array format'''\n",
        "x_train = np.array(x_train_original)\n",
        "x_test = np.array(x_test_original)\n",
        "\n",
        "x_train = x_train.astype('float32') / 255\n",
        "x_test = x_test.astype('float32') /255\n",
        "\n",
        "# Reshape to original image shape (n x 784)  ==> (n x 28 x 28 x 1)\n",
        "x_train = x_train.reshape(-1,28,28,1)\n",
        "x_test = x_test.reshape(-1,28,28,1)\n",
        "\n",
        "\n",
        "# 4. Preprocess class labels\n",
        "y_train = keras.utils.to_categorical(y_train_original, num_classes=10)\n",
        "y_test = keras.utils.to_categorical(y_test_original, num_classes=10)\n"
      ],
      "metadata": {
        "id": "AT743P0ErbcM"
      },
      "execution_count": 6,
      "outputs": []
    },
    {
      "cell_type": "code",
      "source": [
        "# test and validation set\n",
        "x_val = x_test[:200]\n",
        "x_test = x_test[200:]\n",
        "y_val = y_test[:200]\n",
        "y_test = y_test[200:]"
      ],
      "metadata": {
        "id": "QfH4xGkBrgOr"
      },
      "execution_count": 7,
      "outputs": []
    },
    {
      "cell_type": "code",
      "source": [
        "# 5. Define model architecture\n",
        "model = Sequential()\n",
        "model.add(layers.Conv2D(32, (3, 3), activation='relu',\n",
        "                        input_shape=(28, 28, 1)))\n",
        "model.add(layers.MaxPooling2D((2, 2)))\n",
        "model.add(layers.Conv2D(64, (3, 3), activation='relu'))\n",
        "model.add(layers.MaxPooling2D((2, 2)))\n",
        "model.add(layers.Conv2D(64, (3, 3), activation='relu'))\n",
        "model.add(layers.Flatten())\n",
        "model.add(layers.Dense(64, activation='relu'))\n",
        "model.add(layers.Dropout(0.5))\n",
        "model.add(layers.Dense(10, activation='softmax'))\n",
        "\n",
        "\n",
        "# 6. Compile model\n",
        "model.compile(loss='categorical_crossentropy',\n",
        "              optimizer='adam',\n",
        "              metrics=['accuracy'])"
      ],
      "metadata": {
        "id": "K3M98v0Urpvw"
      },
      "execution_count": 55,
      "outputs": []
    },
    {
      "cell_type": "code",
      "source": [
        "MIN_LR = 1e-10\n",
        "MAX_LR = 1"
      ],
      "metadata": {
        "id": "LfovvzCTr-IZ"
      },
      "execution_count": 12,
      "outputs": []
    },
    {
      "cell_type": "code",
      "source": [
        "lr_finder = LRFinder(model)\n",
        "lr_finder.find((x_train, y_train), MIN_LR, MAX_LR)\n",
        "lr_finder.plot_loss()"
      ],
      "metadata": {
        "colab": {
          "base_uri": "https://localhost:8080/",
          "height": 873
        },
        "id": "hLWaVZU7rs75",
        "outputId": "53f6b42f-daf0-4c69-be29-78e19d772773"
      },
      "execution_count": 13,
      "outputs": [
        {
          "output_type": "stream",
          "name": "stdout",
          "text": [
            "Epoch 1/19\n",
            "110/110 [==============================] - 4s 27ms/step - loss: 2.3273 - accuracy: 0.0840\n",
            "Epoch 2/19\n",
            "110/110 [==============================] - 3s 26ms/step - loss: 2.3273 - accuracy: 0.0809\n",
            "Epoch 3/19\n",
            "110/110 [==============================] - 3s 27ms/step - loss: 2.3278 - accuracy: 0.0823\n",
            "Epoch 4/19\n",
            "110/110 [==============================] - 3s 27ms/step - loss: 2.3297 - accuracy: 0.0829\n",
            "Epoch 5/19\n",
            "110/110 [==============================] - 3s 26ms/step - loss: 2.3269 - accuracy: 0.0923\n",
            "Epoch 6/19\n",
            "110/110 [==============================] - 3s 26ms/step - loss: 2.3281 - accuracy: 0.0866\n",
            "Epoch 7/19\n",
            "110/110 [==============================] - 3s 27ms/step - loss: 2.3274 - accuracy: 0.0826\n",
            "Epoch 8/19\n",
            "110/110 [==============================] - 3s 27ms/step - loss: 2.3264 - accuracy: 0.0929\n",
            "Epoch 9/19\n",
            "110/110 [==============================] - 3s 27ms/step - loss: 2.3193 - accuracy: 0.0897\n",
            "Epoch 10/19\n",
            "110/110 [==============================] - 3s 26ms/step - loss: 2.3047 - accuracy: 0.1100\n",
            "Epoch 11/19\n",
            "110/110 [==============================] - 3s 26ms/step - loss: 2.2496 - accuracy: 0.2020\n",
            "Epoch 12/19\n",
            "110/110 [==============================] - 3s 26ms/step - loss: 1.5795 - accuracy: 0.5077\n",
            "Epoch 13/19\n",
            "110/110 [==============================] - 3s 26ms/step - loss: 0.6784 - accuracy: 0.7674\n",
            "Epoch 14/19\n",
            "110/110 [==============================] - 3s 26ms/step - loss: 0.4172 - accuracy: 0.8660\n",
            "Epoch 15/19\n",
            "110/110 [==============================] - 3s 26ms/step - loss: 0.3620 - accuracy: 0.8771\n",
            "Epoch 16/19\n",
            "110/110 [==============================] - 3s 25ms/step - loss: 0.7340 - accuracy: 0.7937\n",
            "Epoch 17/19\n",
            "110/110 [==============================] - 3s 31ms/step - loss: 1.7652 - accuracy: 0.4911\n"
          ]
        },
        {
          "output_type": "display_data",
          "data": {
            "image/png": "[encoded data removed]",
            "text/plain": [
              "<Figure size 432x288 with 1 Axes>"
            ]
          },
          "metadata": {
            "needs_background": "light"
          }
        }
      ]
    },
    {
      "cell_type": "code",
      "source": [
        "def get_lr(epoch, lr):\n",
        "  min_lr = 1e-4\n",
        "  max_lr = 1e-3\n",
        "  steps_to_decay = 20\n",
        "  if epoch % steps_to_decay == 0:\n",
        "\n",
        "    if lr > min_lr: \n",
        "      return lr / (1 + epoch // steps_to_decay)\n",
        "    else:\n",
        "      return min_lr\n",
        "\n",
        "  return lr"
      ],
      "metadata": {
        "id": "Irv8qbBZz-XQ"
      },
      "execution_count": 56,
      "outputs": []
    },
    {
      "cell_type": "code",
      "source": [
        "lr_schedular = keras.callbacks.LearningRateScheduler(get_lr)"
      ],
      "metadata": {
        "id": "vBK9y2s8wQGR"
      },
      "execution_count": 57,
      "outputs": []
    },
    {
      "cell_type": "code",
      "source": [
        "history = model.fit(x_train, y_train,\n",
        "                    epochs=80,\n",
        "                    batch_size=256,\n",
        "                    validation_data = (x_val, y_val),\n",
        "                    callbacks=[lr_schedular])\n"
      ],
      "metadata": {
        "colab": {
          "base_uri": "https://localhost:8080/"
        },
        "id": "o_B6ELPf2j3R",
        "outputId": "8a344579-b9ba-4a64-d3f4-6586df8a3379"
      },
      "execution_count": 58,
      "outputs": [
        {
          "output_type": "stream",
          "name": "stdout",
          "text": [
            "Epoch 1/80\n",
            "14/14 [==============================] - 3s 184ms/step - loss: 2.0155 - accuracy: 0.3443 - val_loss: 1.3399 - val_accuracy: 0.7650 - lr: 0.0010\n",
            "Epoch 2/80\n",
            "14/14 [==============================] - 2s 173ms/step - loss: 1.1330 - accuracy: 0.6403 - val_loss: 0.5074 - val_accuracy: 0.8700 - lr: 0.0010\n",
            "Epoch 3/80\n",
            "14/14 [==============================] - 2s 173ms/step - loss: 0.6781 - accuracy: 0.7760 - val_loss: 0.3101 - val_accuracy: 0.9000 - lr: 0.0010\n",
            "Epoch 4/80\n",
            "14/14 [==============================] - 2s 172ms/step - loss: 0.4872 - accuracy: 0.8360 - val_loss: 0.2272 - val_accuracy: 0.9250 - lr: 0.0010\n",
            "Epoch 5/80\n",
            "14/14 [==============================] - 2s 172ms/step - loss: 0.4072 - accuracy: 0.8663 - val_loss: 0.2201 - val_accuracy: 0.9350 - lr: 0.0010\n",
            "Epoch 6/80\n",
            "14/14 [==============================] - 2s 173ms/step - loss: 0.3385 - accuracy: 0.8849 - val_loss: 0.1827 - val_accuracy: 0.9400 - lr: 0.0010\n",
            "Epoch 7/80\n",
            "14/14 [==============================] - 2s 173ms/step - loss: 0.2936 - accuracy: 0.9057 - val_loss: 0.1572 - val_accuracy: 0.9600 - lr: 0.0010\n",
            "Epoch 8/80\n",
            "14/14 [==============================] - 2s 172ms/step - loss: 0.2631 - accuracy: 0.9143 - val_loss: 0.1336 - val_accuracy: 0.9600 - lr: 0.0010\n",
            "Epoch 9/80\n",
            "14/14 [==============================] - 2s 171ms/step - loss: 0.2282 - accuracy: 0.9240 - val_loss: 0.1174 - val_accuracy: 0.9650 - lr: 0.0010\n",
            "Epoch 10/80\n",
            "14/14 [==============================] - 2s 171ms/step - loss: 0.2031 - accuracy: 0.9343 - val_loss: 0.1123 - val_accuracy: 0.9650 - lr: 0.0010\n",
            "Epoch 11/80\n",
            "14/14 [==============================] - 2s 175ms/step - loss: 0.1934 - accuracy: 0.9386 - val_loss: 0.1106 - val_accuracy: 0.9650 - lr: 0.0010\n",
            "Epoch 12/80\n",
            "14/14 [==============================] - 2s 173ms/step - loss: 0.1593 - accuracy: 0.9480 - val_loss: 0.1154 - val_accuracy: 0.9650 - lr: 0.0010\n",
            "Epoch 13/80\n",
            "14/14 [==============================] - 2s 174ms/step - loss: 0.1544 - accuracy: 0.9443 - val_loss: 0.0999 - val_accuracy: 0.9750 - lr: 0.0010\n",
            "Epoch 14/80\n",
            "14/14 [==============================] - 2s 173ms/step - loss: 0.1451 - accuracy: 0.9551 - val_loss: 0.1013 - val_accuracy: 0.9600 - lr: 0.0010\n",
            "Epoch 15/80\n",
            "14/14 [==============================] - 2s 174ms/step - loss: 0.1293 - accuracy: 0.9583 - val_loss: 0.0919 - val_accuracy: 0.9550 - lr: 0.0010\n",
            "Epoch 16/80\n",
            "14/14 [==============================] - 2s 173ms/step - loss: 0.1335 - accuracy: 0.9580 - val_loss: 0.1012 - val_accuracy: 0.9700 - lr: 0.0010\n",
            "Epoch 17/80\n",
            "14/14 [==============================] - 2s 171ms/step - loss: 0.1092 - accuracy: 0.9657 - val_loss: 0.0954 - val_accuracy: 0.9750 - lr: 0.0010\n",
            "Epoch 18/80\n",
            "14/14 [==============================] - 2s 172ms/step - loss: 0.1042 - accuracy: 0.9651 - val_loss: 0.0906 - val_accuracy: 0.9750 - lr: 0.0010\n",
            "Epoch 19/80\n",
            "14/14 [==============================] - 2s 173ms/step - loss: 0.1018 - accuracy: 0.9711 - val_loss: 0.0915 - val_accuracy: 0.9750 - lr: 0.0010\n",
            "Epoch 20/80\n",
            "14/14 [==============================] - 2s 171ms/step - loss: 0.0855 - accuracy: 0.9726 - val_loss: 0.0974 - val_accuracy: 0.9750 - lr: 0.0010\n",
            "Epoch 21/80\n",
            "14/14 [==============================] - 2s 173ms/step - loss: 0.0861 - accuracy: 0.9714 - val_loss: 0.0831 - val_accuracy: 0.9800 - lr: 5.0000e-04\n",
            "Epoch 22/80\n",
            "14/14 [==============================] - 2s 172ms/step - loss: 0.0854 - accuracy: 0.9711 - val_loss: 0.0907 - val_accuracy: 0.9800 - lr: 5.0000e-04\n",
            "Epoch 23/80\n",
            "14/14 [==============================] - 2s 172ms/step - loss: 0.0754 - accuracy: 0.9771 - val_loss: 0.0899 - val_accuracy: 0.9750 - lr: 5.0000e-04\n",
            "Epoch 24/80\n",
            "14/14 [==============================] - 2s 174ms/step - loss: 0.0743 - accuracy: 0.9754 - val_loss: 0.0836 - val_accuracy: 0.9800 - lr: 5.0000e-04\n",
            "Epoch 25/80\n",
            "14/14 [==============================] - 2s 173ms/step - loss: 0.0760 - accuracy: 0.9763 - val_loss: 0.0835 - val_accuracy: 0.9750 - lr: 5.0000e-04\n",
            "Epoch 26/80\n",
            "14/14 [==============================] - 2s 174ms/step - loss: 0.0655 - accuracy: 0.9786 - val_loss: 0.0709 - val_accuracy: 0.9850 - lr: 5.0000e-04\n",
            "Epoch 27/80\n",
            "14/14 [==============================] - 2s 173ms/step - loss: 0.0755 - accuracy: 0.9754 - val_loss: 0.0792 - val_accuracy: 0.9800 - lr: 5.0000e-04\n",
            "Epoch 28/80\n",
            "14/14 [==============================] - 2s 173ms/step - loss: 0.0599 - accuracy: 0.9814 - val_loss: 0.0691 - val_accuracy: 0.9850 - lr: 5.0000e-04\n",
            "Epoch 29/80\n",
            "14/14 [==============================] - 2s 172ms/step - loss: 0.0623 - accuracy: 0.9786 - val_loss: 0.0739 - val_accuracy: 0.9800 - lr: 5.0000e-04\n",
            "Epoch 30/80\n",
            "14/14 [==============================] - 2s 173ms/step - loss: 0.0635 - accuracy: 0.9791 - val_loss: 0.0801 - val_accuracy: 0.9800 - lr: 5.0000e-04\n",
            "Epoch 31/80\n",
            "14/14 [==============================] - 2s 172ms/step - loss: 0.0615 - accuracy: 0.9797 - val_loss: 0.0861 - val_accuracy: 0.9800 - lr: 5.0000e-04\n",
            "Epoch 32/80\n",
            "14/14 [==============================] - 2s 174ms/step - loss: 0.0563 - accuracy: 0.9829 - val_loss: 0.0794 - val_accuracy: 0.9800 - lr: 5.0000e-04\n",
            "Epoch 33/80\n",
            "14/14 [==============================] - 2s 173ms/step - loss: 0.0518 - accuracy: 0.9829 - val_loss: 0.0810 - val_accuracy: 0.9800 - lr: 5.0000e-04\n",
            "Epoch 34/80\n",
            "14/14 [==============================] - 2s 173ms/step - loss: 0.0512 - accuracy: 0.9834 - val_loss: 0.0720 - val_accuracy: 0.9850 - lr: 5.0000e-04\n",
            "Epoch 35/80\n",
            "14/14 [==============================] - 2s 174ms/step - loss: 0.0586 - accuracy: 0.9820 - val_loss: 0.0776 - val_accuracy: 0.9800 - lr: 5.0000e-04\n",
            "Epoch 36/80\n",
            "14/14 [==============================] - 2s 172ms/step - loss: 0.0478 - accuracy: 0.9860 - val_loss: 0.0637 - val_accuracy: 0.9850 - lr: 5.0000e-04\n",
            "Epoch 37/80\n",
            "14/14 [==============================] - 2s 175ms/step - loss: 0.0433 - accuracy: 0.9869 - val_loss: 0.0666 - val_accuracy: 0.9850 - lr: 5.0000e-04\n",
            "Epoch 38/80\n",
            "14/14 [==============================] - 2s 173ms/step - loss: 0.0468 - accuracy: 0.9829 - val_loss: 0.0737 - val_accuracy: 0.9800 - lr: 5.0000e-04\n",
            "Epoch 39/80\n",
            "14/14 [==============================] - 2s 173ms/step - loss: 0.0491 - accuracy: 0.9843 - val_loss: 0.0796 - val_accuracy: 0.9750 - lr: 5.0000e-04\n",
            "Epoch 40/80\n",
            "14/14 [==============================] - 2s 172ms/step - loss: 0.0487 - accuracy: 0.9820 - val_loss: 0.0851 - val_accuracy: 0.9850 - lr: 5.0000e-04\n",
            "Epoch 41/80\n",
            "14/14 [==============================] - 2s 175ms/step - loss: 0.0466 - accuracy: 0.9851 - val_loss: 0.0733 - val_accuracy: 0.9850 - lr: 1.6667e-04\n",
            "Epoch 42/80\n",
            "14/14 [==============================] - 2s 174ms/step - loss: 0.0428 - accuracy: 0.9860 - val_loss: 0.0681 - val_accuracy: 0.9850 - lr: 1.6667e-04\n",
            "Epoch 43/80\n",
            "14/14 [==============================] - 2s 174ms/step - loss: 0.0431 - accuracy: 0.9857 - val_loss: 0.0700 - val_accuracy: 0.9850 - lr: 1.6667e-04\n",
            "Epoch 44/80\n",
            "14/14 [==============================] - 2s 174ms/step - loss: 0.0333 - accuracy: 0.9903 - val_loss: 0.0745 - val_accuracy: 0.9850 - lr: 1.6667e-04\n",
            "Epoch 45/80\n",
            "14/14 [==============================] - 2s 174ms/step - loss: 0.0363 - accuracy: 0.9877 - val_loss: 0.0683 - val_accuracy: 0.9850 - lr: 1.6667e-04\n",
            "Epoch 46/80\n",
            "14/14 [==============================] - 2s 173ms/step - loss: 0.0398 - accuracy: 0.9857 - val_loss: 0.0715 - val_accuracy: 0.9850 - lr: 1.6667e-04\n",
            "Epoch 47/80\n",
            "14/14 [==============================] - 2s 173ms/step - loss: 0.0406 - accuracy: 0.9883 - val_loss: 0.0704 - val_accuracy: 0.9850 - lr: 1.6667e-04\n",
            "Epoch 48/80\n",
            "14/14 [==============================] - 2s 172ms/step - loss: 0.0375 - accuracy: 0.9877 - val_loss: 0.0749 - val_accuracy: 0.9750 - lr: 1.6667e-04\n",
            "Epoch 49/80\n",
            "14/14 [==============================] - 2s 172ms/step - loss: 0.0397 - accuracy: 0.9863 - val_loss: 0.0689 - val_accuracy: 0.9850 - lr: 1.6667e-04\n",
            "Epoch 50/80\n",
            "14/14 [==============================] - 2s 174ms/step - loss: 0.0346 - accuracy: 0.9900 - val_loss: 0.0684 - val_accuracy: 0.9850 - lr: 1.6667e-04\n",
            "Epoch 51/80\n",
            "14/14 [==============================] - 2s 175ms/step - loss: 0.0359 - accuracy: 0.9877 - val_loss: 0.0663 - val_accuracy: 0.9850 - lr: 1.6667e-04\n",
            "Epoch 52/80\n",
            "14/14 [==============================] - 2s 172ms/step - loss: 0.0354 - accuracy: 0.9900 - val_loss: 0.0679 - val_accuracy: 0.9850 - lr: 1.6667e-04\n",
            "Epoch 53/80\n",
            "14/14 [==============================] - 2s 173ms/step - loss: 0.0357 - accuracy: 0.9889 - val_loss: 0.0706 - val_accuracy: 0.9850 - lr: 1.6667e-04\n",
            "Epoch 54/80\n",
            "14/14 [==============================] - 2s 177ms/step - loss: 0.0380 - accuracy: 0.9880 - val_loss: 0.0701 - val_accuracy: 0.9850 - lr: 1.6667e-04\n",
            "Epoch 55/80\n",
            "14/14 [==============================] - 2s 173ms/step - loss: 0.0322 - accuracy: 0.9897 - val_loss: 0.0661 - val_accuracy: 0.9850 - lr: 1.6667e-04\n",
            "Epoch 56/80\n",
            "14/14 [==============================] - 2s 172ms/step - loss: 0.0331 - accuracy: 0.9894 - val_loss: 0.0651 - val_accuracy: 0.9850 - lr: 1.6667e-04\n",
            "Epoch 57/80\n",
            "14/14 [==============================] - 2s 173ms/step - loss: 0.0386 - accuracy: 0.9860 - val_loss: 0.0654 - val_accuracy: 0.9850 - lr: 1.6667e-04\n",
            "Epoch 58/80\n",
            "14/14 [==============================] - 2s 176ms/step - loss: 0.0364 - accuracy: 0.9900 - val_loss: 0.0616 - val_accuracy: 0.9850 - lr: 1.6667e-04\n",
            "Epoch 59/80\n",
            "14/14 [==============================] - 2s 174ms/step - loss: 0.0341 - accuracy: 0.9886 - val_loss: 0.0668 - val_accuracy: 0.9850 - lr: 1.6667e-04\n",
            "Epoch 60/80\n",
            "14/14 [==============================] - 2s 172ms/step - loss: 0.0313 - accuracy: 0.9909 - val_loss: 0.0647 - val_accuracy: 0.9850 - lr: 1.6667e-04\n",
            "Epoch 61/80\n",
            "14/14 [==============================] - 2s 174ms/step - loss: 0.0349 - accuracy: 0.9891 - val_loss: 0.0655 - val_accuracy: 0.9850 - lr: 4.1667e-05\n",
            "Epoch 62/80\n",
            "14/14 [==============================] - 2s 176ms/step - loss: 0.0322 - accuracy: 0.9909 - val_loss: 0.0670 - val_accuracy: 0.9850 - lr: 4.1667e-05\n",
            "Epoch 63/80\n",
            "14/14 [==============================] - 2s 174ms/step - loss: 0.0334 - accuracy: 0.9891 - val_loss: 0.0659 - val_accuracy: 0.9850 - lr: 4.1667e-05\n",
            "Epoch 64/80\n",
            "14/14 [==============================] - 2s 173ms/step - loss: 0.0312 - accuracy: 0.9894 - val_loss: 0.0672 - val_accuracy: 0.9850 - lr: 4.1667e-05\n",
            "Epoch 65/80\n",
            "14/14 [==============================] - 2s 173ms/step - loss: 0.0301 - accuracy: 0.9914 - val_loss: 0.0677 - val_accuracy: 0.9850 - lr: 4.1667e-05\n",
            "Epoch 66/80\n",
            "14/14 [==============================] - 2s 174ms/step - loss: 0.0300 - accuracy: 0.9900 - val_loss: 0.0688 - val_accuracy: 0.9850 - lr: 4.1667e-05\n",
            "Epoch 67/80\n",
            "14/14 [==============================] - 2s 175ms/step - loss: 0.0288 - accuracy: 0.9914 - val_loss: 0.0698 - val_accuracy: 0.9800 - lr: 4.1667e-05\n",
            "Epoch 68/80\n",
            "14/14 [==============================] - 2s 173ms/step - loss: 0.0286 - accuracy: 0.9914 - val_loss: 0.0698 - val_accuracy: 0.9850 - lr: 4.1667e-05\n",
            "Epoch 69/80\n",
            "14/14 [==============================] - 2s 173ms/step - loss: 0.0275 - accuracy: 0.9917 - val_loss: 0.0707 - val_accuracy: 0.9850 - lr: 4.1667e-05\n",
            "Epoch 70/80\n",
            "14/14 [==============================] - 2s 174ms/step - loss: 0.0270 - accuracy: 0.9903 - val_loss: 0.0703 - val_accuracy: 0.9850 - lr: 4.1667e-05\n",
            "Epoch 71/80\n",
            "14/14 [==============================] - 2s 174ms/step - loss: 0.0291 - accuracy: 0.9914 - val_loss: 0.0701 - val_accuracy: 0.9850 - lr: 4.1667e-05\n",
            "Epoch 72/80\n",
            "14/14 [==============================] - 2s 174ms/step - loss: 0.0259 - accuracy: 0.9917 - val_loss: 0.0687 - val_accuracy: 0.9850 - lr: 4.1667e-05\n",
            "Epoch 73/80\n",
            "14/14 [==============================] - 2s 174ms/step - loss: 0.0271 - accuracy: 0.9909 - val_loss: 0.0675 - val_accuracy: 0.9850 - lr: 4.1667e-05\n",
            "Epoch 74/80\n",
            "14/14 [==============================] - 2s 173ms/step - loss: 0.0302 - accuracy: 0.9929 - val_loss: 0.0661 - val_accuracy: 0.9850 - lr: 4.1667e-05\n",
            "Epoch 75/80\n",
            "14/14 [==============================] - 2s 174ms/step - loss: 0.0307 - accuracy: 0.9920 - val_loss: 0.0666 - val_accuracy: 0.9850 - lr: 4.1667e-05\n",
            "Epoch 76/80\n",
            "14/14 [==============================] - 2s 176ms/step - loss: 0.0267 - accuracy: 0.9909 - val_loss: 0.0695 - val_accuracy: 0.9850 - lr: 4.1667e-05\n",
            "Epoch 77/80\n",
            "14/14 [==============================] - 2s 174ms/step - loss: 0.0338 - accuracy: 0.9894 - val_loss: 0.0696 - val_accuracy: 0.9850 - lr: 4.1667e-05\n",
            "Epoch 78/80\n",
            "14/14 [==============================] - 2s 173ms/step - loss: 0.0314 - accuracy: 0.9897 - val_loss: 0.0688 - val_accuracy: 0.9850 - lr: 4.1667e-05\n",
            "Epoch 79/80\n",
            "14/14 [==============================] - 2s 174ms/step - loss: 0.0316 - accuracy: 0.9894 - val_loss: 0.0685 - val_accuracy: 0.9850 - lr: 4.1667e-05\n",
            "Epoch 80/80\n",
            "14/14 [==============================] - 2s 176ms/step - loss: 0.0315 - accuracy: 0.9903 - val_loss: 0.0685 - val_accuracy: 0.9850 - lr: 4.1667e-05\n"
          ]
        }
      ]
    },
    {
      "cell_type": "code",
      "source": [
        "import pandas as pd\n",
        "history_df = pd.DataFrame(history.history)\n",
        "history_df.loc[:, history_df.columns.difference(['lr'])].plot()\n",
        "history_df.loc[:, ['lr']].plot()"
      ],
      "metadata": {
        "colab": {
          "base_uri": "https://localhost:8080/",
          "height": 530
        },
        "id": "aCv0DHo57TJi",
        "outputId": "1104d477-b1ca-493c-a429-d6a15b51076e"
      },
      "execution_count": 67,
      "outputs": [
        {
          "output_type": "execute_result",
          "data": {
            "text/plain": [
              "<matplotlib.axes._subplots.AxesSubplot at 0x7f3ffcf29b50>"
            ]
          },
          "metadata": {},
          "execution_count": 67
        },
        {
          "output_type": "display_data",
          "data": {
            "image/png": "[encoded data removed]",
            "text/plain": [
              "<Figure size 432x288 with 1 Axes>"
            ]
          },
          "metadata": {
            "needs_background": "light"
          }
        },
        {
          "output_type": "display_data",
          "data": {
            "image/png": "[encoded data removed]",
            "text/plain": [
              "<Figure size 432x288 with 1 Axes>"
            ]
          },
          "metadata": {
            "needs_background": "light"
          }
        }
      ]
    }
  ]
}