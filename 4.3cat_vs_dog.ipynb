{
  "nbformat": 4,
  "nbformat_minor": 0,
  "metadata": {
    "colab": {
      "name": "4.3cat-vs-dog.ipynb",
      "provenance": [],
      "authorship_tag": "ABX9TyMV6+wUlS5SYUvHd1/LFj5w",
      "include_colab_link": true
    },
    "kernelspec": {
      "name": "python3",
      "display_name": "Python 3"
    },
    "language_info": {
      "name": "python"
    }
  },
  "cells": [
    {
      "cell_type": "markdown",
      "metadata": {
        "id": "view-in-github",
        "colab_type": "text"
      },
      "source": [
        "<a href=\"https://colab.research.google.com/github/m-bashari-m/sample-DNN-projects/blob/main/4.3cat_vs_dog.ipynb\" target=\"_parent\"><img src=\"https://colab.research.google.com/assets/colab-badge.svg\" alt=\"Open In Colab\"/></a>"
      ]
    },
    {
      "cell_type": "code",
      "execution_count": 172,
      "metadata": {
        "id": "2NVwHx1spvCF"
      },
      "outputs": [],
      "source": [
        "import tensorflow as tf\n",
        "import os\n",
        "\n",
        "_URL = 'https://storage.googleapis.com/mledu-datasets/cats_and_dogs_filtered.zip'\n",
        "\n",
        "path_to_zip = tf.keras.utils.get_file('cats_and_dogs.zip', origin=_URL, extract=True)\n",
        "\n",
        "PATH = os.path.join(os.path.dirname(path_to_zip), 'cats_and_dogs_filtered')\n",
        "\n",
        "train_dir =  \"/root/.keras/datasets/cats_and_dogs_filtered/train\"\n",
        "validation_dir = \"/root/.keras/datasets/cats_and_dogs_filtered/validation\""
      ]
    },
    {
      "cell_type": "code",
      "source": [
        "train_ds = tf.data.Dataset.list_files(str(train_dir+'/*/*'))\n",
        "val_ds = tf.data.Dataset.list_files(str(validation_dir+'/*/*'))"
      ],
      "metadata": {
        "id": "eiEMHlrBpv2m"
      },
      "execution_count": 173,
      "outputs": []
    },
    {
      "cell_type": "code",
      "source": [
        "for path in train_ds.take(5):\n",
        "  print(path)"
      ],
      "metadata": {
        "colab": {
          "base_uri": "https://localhost:8080/"
        },
        "id": "RlC8mxlQumcA",
        "outputId": "6ef411f5-7d13-4fc4-f92a-6d271fbd5a1b"
      },
      "execution_count": 174,
      "outputs": [
        {
          "output_type": "stream",
          "name": "stdout",
          "text": [
            "tf.Tensor(b'/root/.keras/datasets/cats_and_dogs_filtered/train/cats/cat.338.jpg', shape=(), dtype=string)\n",
            "tf.Tensor(b'/root/.keras/datasets/cats_and_dogs_filtered/train/dogs/dog.954.jpg', shape=(), dtype=string)\n",
            "tf.Tensor(b'/root/.keras/datasets/cats_and_dogs_filtered/train/cats/cat.535.jpg', shape=(), dtype=string)\n",
            "tf.Tensor(b'/root/.keras/datasets/cats_and_dogs_filtered/train/dogs/dog.607.jpg', shape=(), dtype=string)\n",
            "tf.Tensor(b'/root/.keras/datasets/cats_and_dogs_filtered/train/cats/cat.371.jpg', shape=(), dtype=string)\n"
          ]
        }
      ]
    },
    {
      "cell_type": "code",
      "source": [
        "def prepare_labeled_data(path):\n",
        "  label = tf.strings.split(path, '/')[-2]\n",
        "  image = tf.image.decode_image( tf.io.read_file(path), expand_animations=False )\n",
        "  return image, label"
      ],
      "metadata": {
        "id": "l-rKLkrmquoR"
      },
      "execution_count": 175,
      "outputs": []
    },
    {
      "cell_type": "code",
      "source": [
        "def augmentation(img):\n",
        "  img = tf.image.resize_with_crop_or_pad(img, 260, 260)\n",
        "  img = tf.image.random_crop(img, size=[256, 256, 3])\n",
        "  img = tf.image.random_brightness(img, max_delta=.2)\n",
        "  img = tf.image.random_flip_left_right(img)\n",
        "  return img"
      ],
      "metadata": {
        "id": "JSWTmQxX1pyj"
      },
      "execution_count": 176,
      "outputs": []
    },
    {
      "cell_type": "code",
      "source": [
        "def normalization(img):\n",
        "  img = tf.image.convert_image_dtype(img, tf.float32)\n",
        "  return img / 255"
      ],
      "metadata": {
        "id": "H5sCM1rJ750M"
      },
      "execution_count": 177,
      "outputs": []
    },
    {
      "cell_type": "code",
      "source": [
        "def train_preprocessing(path):\n",
        "  img, label = prepare_labeled_data(path)\n",
        "  img = augmentation(img)\n",
        "  img = normalization(img)\n",
        "  return img, label"
      ],
      "metadata": {
        "id": "YlMUNFGZzLQ-"
      },
      "execution_count": 178,
      "outputs": []
    },
    {
      "cell_type": "code",
      "source": [
        "def test_preprocessing(path):\n",
        "  img, label = prepare_labeled_data(path)\n",
        "  img = normalization(img)\n",
        "  return img, label"
      ],
      "metadata": {
        "id": "N9AAX4IQq0CN"
      },
      "execution_count": 179,
      "outputs": []
    },
    {
      "cell_type": "code",
      "source": [
        "BATCH_SIZE=64\n",
        "AUTOTUNE = tf.data.AUTOTUNE\n",
        "BUFFER_SIZE=1000"
      ],
      "metadata": {
        "id": "UNPqm5fs9Df4"
      },
      "execution_count": 180,
      "outputs": []
    },
    {
      "cell_type": "code",
      "source": [
        "train_ds = train_ds.map(train_preprocessing).shuffle(BUFFER_SIZE).batch(BATCH_SIZE).prefetch(AUTOTUNE)\n",
        "val_ds = val_ds.map(test_preprocessing).batch(BATCH_SIZE).prefetch(AUTOTUNE)"
      ],
      "metadata": {
        "id": "SJncam6bArD1"
      },
      "execution_count": 181,
      "outputs": []
    },
    {
      "cell_type": "code",
      "source": [
        "for img, lbl in train_ds.take(10):\n",
        "  print(img.shape, lbl.numpy())"
      ],
      "metadata": {
        "id": "9VYX2khMCNF6"
      },
      "execution_count": null,
      "outputs": []
    },
    {
      "cell_type": "code",
      "source": [
        ""
      ],
      "metadata": {
        "id": "yAr4IX4JCVmF"
      },
      "execution_count": null,
      "outputs": []
    }
  ]
}