{
  "cells": [
    {
      "cell_type": "markdown",
      "metadata": {
        "id": "view-in-github",
        "colab_type": "text"
      },
      "source": [
        "<a href=\"https://colab.research.google.com/github/m-bashari-m/sample-DNN-projects/blob/main/1.1_iris.ipynb\" target=\"_parent\"><img src=\"https://colab.research.google.com/assets/colab-badge.svg\" alt=\"Open In Colab\"/></a>"
      ]
    },
    {
      "cell_type": "markdown",
      "metadata": {
        "id": "eSEWhRPYM9FG"
      },
      "source": [
        "<center><div style=\"direction:rtl;font-family:B Lotus, B Nazanin, Tahoma\">به نام خدا</div></center>\n",
        "\n",
        "<h1><center><div style=\"direction:rtl;font-family:B Lotus, B Nazanin, Tahoma\">تمرین عملی 1: طبقه بندی با شبکه های تمام متصل روی مجموعه داده IRIS</div></center></h1>"
      ]
    },
    {
      "cell_type": "markdown",
      "metadata": {
        "id": "lzQGls4_M9FL"
      },
      "source": [
        "## <div style=\"direction:rtl;text-align:right;font-family:B Lotus, B Nazanin, Tahoma\">صورت مساله</div>\n",
        "\n",
        "\n",
        "<div style=\"direction:rtl;text-align:right;font-family:Tahoma\">\n",
        "در اولین جلسه کارگاه طبقه بندی با شبکه های تمام متصل را دیدیم.\n",
        "<br>\n",
        "توصیه می‌شود حتما نوت بوک‌های زیر را قبل از این تمرین مرور کنید:\n",
        "</div>\n",
        "\n",
        "[04_a Gentle Introduction to Keras - Simple neural network(mlp).ipynb](https://nbviewer.jupyter.org/github/alireza-akhavan/SRU-deeplearning-workshop/blob/master/04_a%20Gentle%20Introduction%20to%20Keras%20-%20Simple%20neural%20network%28mlp%29.ipynb)\n",
        "\n",
        "[05_Dropout.ipynb](https://nbviewer.jupyter.org/github/alireza-akhavan/SRU-deeplearning-workshop/blob/master/05_Dropout.ipynb)\n",
        "\n",
        "<div style=\"direction:rtl;text-align:right;font-family:Tahoma\">\n",
        "در این جلسه با داده های تصویری آشنا شدیم. اما در این تمرین برای اینکه بدانیم کاربرد این مباحث در مسائل غیر تصویری نیز هست  از مجموعه داده ی ساختار یافتهiris  شامل 4 ویژگی برای طول و عرض کاسبرگ و گلبرگ استفاده خواهیم کرد که بتوانیم بر اساس این ویژگی ها نوع گل را از 3 کلاس متفاوت تشخیص دهیم.\n",
        "</div>"
      ]
    },
    {
      "cell_type": "markdown",
      "metadata": {
        "id": "2-gjclHDM9FP"
      },
      "source": [
        "## <div style=\"direction:rtl;text-align:right;font-family:B Lotus, B Nazanin, Tahoma\">لود کتابخانه های مورد نیاز </div>\n",
        "<div style=\"direction:rtl;text-align:right;font-family:Tahoma\">\n",
        "کتابخانه های مورد نیاز این تمرین لود شده اند\n",
        "<br>\n",
        "در صورت نیاز میتوانید کتابخانه های بیشتری لود کنید:\n",
        "</div>"
      ]
    },
    {
      "cell_type": "code",
      "execution_count": 1,
      "metadata": {
        "id": "4lzqx17rM9FQ"
      },
      "outputs": [],
      "source": [
        "import numpy as np\n",
        "from tensorflow import keras\n",
        "from sklearn.datasets import load_iris\n",
        "from sklearn.model_selection import train_test_split\n",
        "from keras.models import Sequential\n",
        "from keras.layers import Dense, Dropout\n",
        "from tensorflow.keras.optimizers import Adam"
      ]
    },
    {
      "cell_type": "markdown",
      "metadata": {
        "id": "css8kbl6M9FT"
      },
      "source": [
        "<div style=\"direction:rtl;text-align:right;font-family:Tahoma\">\n",
        "در این تمرین میخواهیم از مجموعه داده iris استفاده کنیم.\n",
        "<br>\n",
        "توضیحات این مجموعه داده در سایت آن موجود است:\n",
        "</div>\n",
        "\n",
        "https://archive.ics.uci.edu/ml/datasets/iris\n",
        "\n",
        "\n",
        "<div style=\"direction:rtl;text-align:right;font-family:Tahoma\">\n",
        "ویژگی ها و کلاس های این مجموعه داده به شرح زیر است:\n",
        "</div>\n",
        "\n",
        "Attribute Information:\n",
        "\n",
        "1. sepal length in cm\n",
        "2. sepal width in cm\n",
        "3. petal length in cm\n",
        "4. petal width in cm\n",
        "\n",
        "class:\n",
        "\n",
        "    Iris Setosa\n",
        "    Iris Versicolour\n",
        "    Iris Virginica\n",
        "\n",
        "<div style=\"direction:rtl;text-align:right;font-family:Tahoma\">\n",
        "این دیتاست در کتابخانه sklearn موجود است\n",
        "<br>\n",
        "در قطعه کد زیر ویژگی ها را در x و برچسب یا labelهای متناظر را در y لود شده است.\n",
        "</div>"
      ]
    },
    {
      "cell_type": "code",
      "execution_count": 2,
      "metadata": {
        "id": "kTvqZMkTM9FU"
      },
      "outputs": [],
      "source": [
        "iris_data = load_iris() # load the iris dataset\n",
        "x = iris_data.data\n",
        "y = iris_data.target.reshape(-1, 1) # Convert data to a single column"
      ]
    },
    {
      "cell_type": "markdown",
      "metadata": {
        "id": "hlYIC-WoM9FW"
      },
      "source": [
        "# <div style=\"direction:rtl;text-align:right;font-family:B Lotus, B Nazanin, Tahoma\">سوال 1:</div>\n",
        "<div style=\"direction:rtl;text-align:right;font-family:Tahoma\">\n",
        "برچسب یا label های ما در حال حاضر عددی است.\n",
        "<br>\n",
        "این اعداد 0 تا 2 هستند و به عبارتی 3 حالت مختلف دارند.\n",
        "<br>\n",
        "این برچسب ها را به فرمت one-hot تبدیل کنید و خروجی را مجدد در y بریزید.\n",
        "\n",
        "<br>\n",
        "<b>راهنمایی: </b>\n",
        "از تابع keras.utils.to_categorical استفاده کنید.\n",
        "</div>"
      ]
    },
    {
      "cell_type": "code",
      "execution_count": 3,
      "metadata": {
        "id": "e3hR7dGuM9FX"
      },
      "outputs": [],
      "source": [
        "y = keras.utils.to_categorical(y, num_classes=3)"
      ]
    },
    {
      "cell_type": "markdown",
      "metadata": {
        "id": "irjkwDBBM9FZ"
      },
      "source": [
        "<div style=\"direction:rtl;text-align:right;font-family:Tahoma\">\n",
        "در زیر داده ها  به داده های test و train تقسیم شده است:\n",
        "</div>"
      ]
    },
    {
      "cell_type": "code",
      "execution_count": 45,
      "metadata": {
        "id": "1PBJ56MAM9Fb"
      },
      "outputs": [],
      "source": [
        "# Split the data for training and testing\n",
        "train_x, test_x, train_y, test_y = train_test_split(x, y, test_size=0.20)"
      ]
    },
    {
      "cell_type": "markdown",
      "metadata": {
        "id": "ZMPQPZFcM9Fc"
      },
      "source": [
        "# <div style=\"direction:rtl;text-align:right;font-family:B Lotus, B Nazanin, Tahoma\">سوال 2:</div>\n",
        "<div style=\"direction:rtl;text-align:right;font-family:Tahoma\">\n",
        "یک شبکه با دو hidden-layer در هر لایه 10 نوران و تابع فعالیت relu بسازید. یک لایه Dropout با نرخ 0.5 در لایه آخر ماقبل softmax نیز اضافه کنید.\n",
        "</div>"
      ]
    },
    {
      "cell_type": "code",
      "execution_count": 11,
      "metadata": {
        "id": "-zEr0KsHM9Fe"
      },
      "outputs": [],
      "source": [
        "# Build the model\n",
        "model = Sequential([\n",
        "       Dense(10, activation='relu', input_dim=train_x.shape[-1]),\n",
        "       Dense(10, activation='relu'),\n",
        "       Dropout(.5),\n",
        "       Dense(3, activation='softmax')])"
      ]
    },
    {
      "cell_type": "code",
      "execution_count": 12,
      "metadata": {
        "colab": {
          "base_uri": "https://localhost:8080/"
        },
        "id": "19OlD38xM9Ff",
        "outputId": "7c16e440-06ce-4288-b739-e3238092a129"
      },
      "outputs": [
        {
          "output_type": "stream",
          "name": "stdout",
          "text": [
            "Model: \"sequential\"\n",
            "_________________________________________________________________\n",
            " Layer (type)                Output Shape              Param #   \n",
            "=================================================================\n",
            " dense_3 (Dense)             (None, 10)                50        \n",
            "                                                                 \n",
            " dense_4 (Dense)             (None, 10)                110       \n",
            "                                                                 \n",
            " dropout_1 (Dropout)         (None, 10)                0         \n",
            "                                                                 \n",
            " dense_5 (Dense)             (None, 3)                 33        \n",
            "                                                                 \n",
            "=================================================================\n",
            "Total params: 193\n",
            "Trainable params: 193\n",
            "Non-trainable params: 0\n",
            "_________________________________________________________________\n"
          ]
        }
      ],
      "source": [
        "model.summary()"
      ]
    },
    {
      "cell_type": "markdown",
      "metadata": {
        "id": "iv2hvVclM9Fg"
      },
      "source": [
        "<div style=\"direction:rtl;text-align:right;font-family:Tahoma\">در زیر مدل کامپایل شده است.</div>"
      ]
    },
    {
      "cell_type": "code",
      "execution_count": 46,
      "metadata": {
        "colab": {
          "base_uri": "https://localhost:8080/"
        },
        "id": "pm-wH8dAM9Fh",
        "outputId": "25e7b03b-0b07-45bd-c146-23befd4e5486"
      },
      "outputs": [
        {
          "output_type": "stream",
          "name": "stderr",
          "text": [
            "/usr/local/lib/python3.7/dist-packages/keras/optimizer_v2/adam.py:105: UserWarning: The `lr` argument is deprecated, use `learning_rate` instead.\n",
            "  super(Adam, self).__init__(name, **kwargs)\n"
          ]
        }
      ],
      "source": [
        "# Adam optimizer with learning rate of 0.001\n",
        "optimizer = Adam(lr=0.001)\n",
        "model.compile(optimizer, loss='categorical_crossentropy', metrics=['accuracy'])"
      ]
    },
    {
      "cell_type": "markdown",
      "metadata": {
        "id": "WMNWsKxHM9Fh"
      },
      "source": [
        "# <div style=\"direction:rtl;text-align:right;font-family:B Lotus, B Nazanin, Tahoma\">سوال 3:</div>\n",
        "<div style=\"direction:rtl;text-align:right;font-family:Tahoma\">\n",
        "مدل را با  batch_size=5 و تعداد 200 ایپاک آموزش دهید.\n",
        "<br>\n",
        "<b>راهنمایی: </b>\n",
        "از تابع model.fit استفاده کنید.\n",
        "</div>"
      ]
    },
    {
      "cell_type": "code",
      "execution_count": 47,
      "metadata": {
        "colab": {
          "base_uri": "https://localhost:8080/"
        },
        "id": "LHXlv8GqM9Fi",
        "outputId": "b0dc764e-0c24-4d09-cb10-6536699b9680"
      },
      "outputs": [
        {
          "output_type": "stream",
          "name": "stdout",
          "text": [
            "Epoch 1/200\n",
            "20/20 [==============================] - 1s 13ms/step - loss: 0.4288 - accuracy: 0.8438 - val_loss: 0.2575 - val_accuracy: 0.9583\n",
            "Epoch 2/200\n",
            "20/20 [==============================] - 0s 4ms/step - loss: 0.3872 - accuracy: 0.8333 - val_loss: 0.2397 - val_accuracy: 0.9583\n",
            "Epoch 3/200\n",
            "20/20 [==============================] - 0s 4ms/step - loss: 0.3331 - accuracy: 0.8958 - val_loss: 0.2265 - val_accuracy: 0.9583\n",
            "Epoch 4/200\n",
            "20/20 [==============================] - 0s 4ms/step - loss: 0.3521 - accuracy: 0.8750 - val_loss: 0.2150 - val_accuracy: 0.9583\n",
            "Epoch 5/200\n",
            "20/20 [==============================] - 0s 4ms/step - loss: 0.3623 - accuracy: 0.8750 - val_loss: 0.2161 - val_accuracy: 0.9583\n",
            "Epoch 6/200\n",
            "20/20 [==============================] - 0s 3ms/step - loss: 0.3597 - accuracy: 0.8542 - val_loss: 0.2314 - val_accuracy: 0.9583\n",
            "Epoch 7/200\n",
            "20/20 [==============================] - 0s 3ms/step - loss: 0.4590 - accuracy: 0.8229 - val_loss: 0.2263 - val_accuracy: 0.9583\n",
            "Epoch 8/200\n",
            "20/20 [==============================] - 0s 3ms/step - loss: 0.4298 - accuracy: 0.8229 - val_loss: 0.2243 - val_accuracy: 0.9583\n",
            "Epoch 9/200\n",
            "20/20 [==============================] - 0s 3ms/step - loss: 0.3146 - accuracy: 0.8854 - val_loss: 0.2201 - val_accuracy: 0.9583\n",
            "Epoch 10/200\n",
            "20/20 [==============================] - 0s 4ms/step - loss: 0.3580 - accuracy: 0.8542 - val_loss: 0.2148 - val_accuracy: 0.9583\n",
            "Epoch 11/200\n",
            "20/20 [==============================] - 0s 3ms/step - loss: 0.3665 - accuracy: 0.8646 - val_loss: 0.2148 - val_accuracy: 0.9583\n",
            "Epoch 12/200\n",
            "20/20 [==============================] - 0s 4ms/step - loss: 0.4349 - accuracy: 0.8229 - val_loss: 0.2209 - val_accuracy: 0.9583\n",
            "Epoch 13/200\n",
            "20/20 [==============================] - 0s 3ms/step - loss: 0.4475 - accuracy: 0.8229 - val_loss: 0.2099 - val_accuracy: 0.9583\n",
            "Epoch 14/200\n",
            "20/20 [==============================] - 0s 3ms/step - loss: 0.5022 - accuracy: 0.7917 - val_loss: 0.2254 - val_accuracy: 0.9583\n",
            "Epoch 15/200\n",
            "20/20 [==============================] - 0s 4ms/step - loss: 0.3945 - accuracy: 0.8542 - val_loss: 0.2335 - val_accuracy: 0.9583\n",
            "Epoch 16/200\n",
            "20/20 [==============================] - 0s 4ms/step - loss: 0.5122 - accuracy: 0.7812 - val_loss: 0.2171 - val_accuracy: 0.9583\n",
            "Epoch 17/200\n",
            "20/20 [==============================] - 0s 3ms/step - loss: 0.4282 - accuracy: 0.8125 - val_loss: 0.2130 - val_accuracy: 0.9583\n",
            "Epoch 18/200\n",
            "20/20 [==============================] - 0s 3ms/step - loss: 0.4009 - accuracy: 0.8542 - val_loss: 0.2257 - val_accuracy: 0.9583\n",
            "Epoch 19/200\n",
            "20/20 [==============================] - 0s 3ms/step - loss: 0.3619 - accuracy: 0.8646 - val_loss: 0.2221 - val_accuracy: 0.9583\n",
            "Epoch 20/200\n",
            "20/20 [==============================] - 0s 4ms/step - loss: 0.2954 - accuracy: 0.8958 - val_loss: 0.2294 - val_accuracy: 0.9583\n",
            "Epoch 21/200\n",
            "20/20 [==============================] - 0s 3ms/step - loss: 0.4009 - accuracy: 0.8542 - val_loss: 0.2218 - val_accuracy: 0.9583\n",
            "Epoch 22/200\n",
            "20/20 [==============================] - 0s 3ms/step - loss: 0.3127 - accuracy: 0.8854 - val_loss: 0.2347 - val_accuracy: 0.9583\n",
            "Epoch 23/200\n",
            "20/20 [==============================] - 0s 4ms/step - loss: 0.3915 - accuracy: 0.8333 - val_loss: 0.2314 - val_accuracy: 0.9583\n",
            "Epoch 24/200\n",
            "20/20 [==============================] - 0s 3ms/step - loss: 0.3649 - accuracy: 0.8854 - val_loss: 0.2361 - val_accuracy: 0.9583\n",
            "Epoch 25/200\n",
            "20/20 [==============================] - 0s 4ms/step - loss: 0.3845 - accuracy: 0.8542 - val_loss: 0.2348 - val_accuracy: 0.9583\n",
            "Epoch 26/200\n",
            "20/20 [==============================] - 0s 3ms/step - loss: 0.3584 - accuracy: 0.8750 - val_loss: 0.2117 - val_accuracy: 0.9583\n",
            "Epoch 27/200\n",
            "20/20 [==============================] - 0s 4ms/step - loss: 0.3349 - accuracy: 0.8750 - val_loss: 0.2243 - val_accuracy: 0.9583\n",
            "Epoch 28/200\n",
            "20/20 [==============================] - 0s 4ms/step - loss: 0.4257 - accuracy: 0.8333 - val_loss: 0.2186 - val_accuracy: 0.9583\n",
            "Epoch 29/200\n",
            "20/20 [==============================] - 0s 3ms/step - loss: 0.3609 - accuracy: 0.8750 - val_loss: 0.2326 - val_accuracy: 0.9583\n",
            "Epoch 30/200\n",
            "20/20 [==============================] - 0s 3ms/step - loss: 0.3240 - accuracy: 0.8854 - val_loss: 0.2430 - val_accuracy: 0.9583\n",
            "Epoch 31/200\n",
            "20/20 [==============================] - 0s 3ms/step - loss: 0.4658 - accuracy: 0.8021 - val_loss: 0.2308 - val_accuracy: 0.9583\n",
            "Epoch 32/200\n",
            "20/20 [==============================] - 0s 3ms/step - loss: 0.4647 - accuracy: 0.8229 - val_loss: 0.2166 - val_accuracy: 0.9583\n",
            "Epoch 33/200\n",
            "20/20 [==============================] - 0s 4ms/step - loss: 0.3602 - accuracy: 0.8750 - val_loss: 0.2212 - val_accuracy: 0.9583\n",
            "Epoch 34/200\n",
            "20/20 [==============================] - 0s 3ms/step - loss: 0.4592 - accuracy: 0.7917 - val_loss: 0.2169 - val_accuracy: 0.9583\n",
            "Epoch 35/200\n",
            "20/20 [==============================] - 0s 3ms/step - loss: 0.2860 - accuracy: 0.8958 - val_loss: 0.2248 - val_accuracy: 0.9583\n",
            "Epoch 36/200\n",
            "20/20 [==============================] - 0s 3ms/step - loss: 0.3077 - accuracy: 0.8958 - val_loss: 0.2227 - val_accuracy: 0.9583\n",
            "Epoch 37/200\n",
            "20/20 [==============================] - 0s 4ms/step - loss: 0.4207 - accuracy: 0.8333 - val_loss: 0.2287 - val_accuracy: 0.9583\n",
            "Epoch 38/200\n",
            "20/20 [==============================] - 0s 3ms/step - loss: 0.3720 - accuracy: 0.8542 - val_loss: 0.2349 - val_accuracy: 0.9583\n",
            "Epoch 39/200\n",
            "20/20 [==============================] - 0s 3ms/step - loss: 0.3981 - accuracy: 0.8438 - val_loss: 0.2204 - val_accuracy: 0.9583\n",
            "Epoch 40/200\n",
            "20/20 [==============================] - 0s 3ms/step - loss: 0.3516 - accuracy: 0.8646 - val_loss: 0.2227 - val_accuracy: 0.9583\n",
            "Epoch 41/200\n",
            "20/20 [==============================] - 0s 3ms/step - loss: 0.3124 - accuracy: 0.8958 - val_loss: 0.2198 - val_accuracy: 0.9583\n",
            "Epoch 42/200\n",
            "20/20 [==============================] - 0s 4ms/step - loss: 0.3491 - accuracy: 0.8854 - val_loss: 0.2165 - val_accuracy: 0.9583\n",
            "Epoch 43/200\n",
            "20/20 [==============================] - 0s 4ms/step - loss: 0.4215 - accuracy: 0.8333 - val_loss: 0.2230 - val_accuracy: 0.9583\n",
            "Epoch 44/200\n",
            "20/20 [==============================] - 0s 4ms/step - loss: 0.4348 - accuracy: 0.8333 - val_loss: 0.2376 - val_accuracy: 0.9583\n",
            "Epoch 45/200\n",
            "20/20 [==============================] - 0s 3ms/step - loss: 0.3211 - accuracy: 0.8750 - val_loss: 0.2441 - val_accuracy: 0.9583\n",
            "Epoch 46/200\n",
            "20/20 [==============================] - 0s 4ms/step - loss: 0.3547 - accuracy: 0.8750 - val_loss: 0.2648 - val_accuracy: 0.9583\n",
            "Epoch 47/200\n",
            "20/20 [==============================] - 0s 4ms/step - loss: 0.4787 - accuracy: 0.8021 - val_loss: 0.2597 - val_accuracy: 0.9583\n",
            "Epoch 48/200\n",
            "20/20 [==============================] - 0s 3ms/step - loss: 0.4319 - accuracy: 0.8333 - val_loss: 0.2355 - val_accuracy: 0.9583\n",
            "Epoch 49/200\n",
            "20/20 [==============================] - 0s 3ms/step - loss: 0.3832 - accuracy: 0.8646 - val_loss: 0.2172 - val_accuracy: 0.9583\n",
            "Epoch 50/200\n",
            "20/20 [==============================] - 0s 3ms/step - loss: 0.4849 - accuracy: 0.7917 - val_loss: 0.2117 - val_accuracy: 0.9583\n",
            "Epoch 51/200\n",
            "20/20 [==============================] - 0s 4ms/step - loss: 0.3882 - accuracy: 0.8750 - val_loss: 0.2090 - val_accuracy: 0.9583\n",
            "Epoch 52/200\n",
            "20/20 [==============================] - 0s 3ms/step - loss: 0.3439 - accuracy: 0.8854 - val_loss: 0.2335 - val_accuracy: 0.9583\n",
            "Epoch 53/200\n",
            "20/20 [==============================] - 0s 3ms/step - loss: 0.3516 - accuracy: 0.8750 - val_loss: 0.2132 - val_accuracy: 0.9583\n",
            "Epoch 54/200\n",
            "20/20 [==============================] - 0s 3ms/step - loss: 0.4496 - accuracy: 0.8229 - val_loss: 0.2160 - val_accuracy: 0.9583\n",
            "Epoch 55/200\n",
            "20/20 [==============================] - 0s 3ms/step - loss: 0.4897 - accuracy: 0.8021 - val_loss: 0.2272 - val_accuracy: 0.9583\n",
            "Epoch 56/200\n",
            "20/20 [==============================] - 0s 4ms/step - loss: 0.3128 - accuracy: 0.8958 - val_loss: 0.2426 - val_accuracy: 0.9583\n",
            "Epoch 57/200\n",
            "20/20 [==============================] - 0s 3ms/step - loss: 0.4110 - accuracy: 0.8438 - val_loss: 0.2390 - val_accuracy: 0.9583\n",
            "Epoch 58/200\n",
            "20/20 [==============================] - 0s 3ms/step - loss: 0.3991 - accuracy: 0.8333 - val_loss: 0.2443 - val_accuracy: 0.9583\n",
            "Epoch 59/200\n",
            "20/20 [==============================] - 0s 3ms/step - loss: 0.3228 - accuracy: 0.8854 - val_loss: 0.2402 - val_accuracy: 0.9583\n",
            "Epoch 60/200\n",
            "20/20 [==============================] - 0s 3ms/step - loss: 0.4468 - accuracy: 0.8125 - val_loss: 0.2141 - val_accuracy: 0.9583\n",
            "Epoch 61/200\n",
            "20/20 [==============================] - 0s 4ms/step - loss: 0.3417 - accuracy: 0.8854 - val_loss: 0.2297 - val_accuracy: 0.9583\n",
            "Epoch 62/200\n",
            "20/20 [==============================] - 0s 4ms/step - loss: 0.3764 - accuracy: 0.8646 - val_loss: 0.2268 - val_accuracy: 0.9583\n",
            "Epoch 63/200\n",
            "20/20 [==============================] - 0s 4ms/step - loss: 0.4768 - accuracy: 0.8021 - val_loss: 0.2186 - val_accuracy: 0.9583\n",
            "Epoch 64/200\n",
            "20/20 [==============================] - 0s 3ms/step - loss: 0.4823 - accuracy: 0.8021 - val_loss: 0.2165 - val_accuracy: 0.9583\n",
            "Epoch 65/200\n",
            "20/20 [==============================] - 0s 4ms/step - loss: 0.4777 - accuracy: 0.8021 - val_loss: 0.2379 - val_accuracy: 0.9583\n",
            "Epoch 66/200\n",
            "20/20 [==============================] - 0s 3ms/step - loss: 0.4486 - accuracy: 0.8125 - val_loss: 0.2402 - val_accuracy: 0.9583\n",
            "Epoch 67/200\n",
            "20/20 [==============================] - 0s 3ms/step - loss: 0.4258 - accuracy: 0.8125 - val_loss: 0.2315 - val_accuracy: 0.9583\n",
            "Epoch 68/200\n",
            "20/20 [==============================] - 0s 3ms/step - loss: 0.3369 - accuracy: 0.8646 - val_loss: 0.2350 - val_accuracy: 0.9583\n",
            "Epoch 69/200\n",
            "20/20 [==============================] - 0s 4ms/step - loss: 0.4148 - accuracy: 0.8333 - val_loss: 0.2311 - val_accuracy: 0.9583\n",
            "Epoch 70/200\n",
            "20/20 [==============================] - 0s 4ms/step - loss: 0.2915 - accuracy: 0.8958 - val_loss: 0.2260 - val_accuracy: 0.9583\n",
            "Epoch 71/200\n",
            "20/20 [==============================] - 0s 3ms/step - loss: 0.4700 - accuracy: 0.8021 - val_loss: 0.2259 - val_accuracy: 0.9583\n",
            "Epoch 72/200\n",
            "20/20 [==============================] - 0s 4ms/step - loss: 0.3695 - accuracy: 0.8646 - val_loss: 0.2184 - val_accuracy: 0.9583\n",
            "Epoch 73/200\n",
            "20/20 [==============================] - 0s 4ms/step - loss: 0.3826 - accuracy: 0.8438 - val_loss: 0.2322 - val_accuracy: 0.9583\n",
            "Epoch 74/200\n",
            "20/20 [==============================] - 0s 3ms/step - loss: 0.3896 - accuracy: 0.8542 - val_loss: 0.2219 - val_accuracy: 0.9583\n",
            "Epoch 75/200\n",
            "20/20 [==============================] - 0s 3ms/step - loss: 0.3488 - accuracy: 0.8646 - val_loss: 0.2269 - val_accuracy: 0.9583\n",
            "Epoch 76/200\n",
            "20/20 [==============================] - 0s 4ms/step - loss: 0.5051 - accuracy: 0.7917 - val_loss: 0.2154 - val_accuracy: 0.9583\n",
            "Epoch 77/200\n",
            "20/20 [==============================] - 0s 3ms/step - loss: 0.4424 - accuracy: 0.8229 - val_loss: 0.2082 - val_accuracy: 0.9583\n",
            "Epoch 78/200\n",
            "20/20 [==============================] - 0s 3ms/step - loss: 0.3199 - accuracy: 0.8958 - val_loss: 0.2405 - val_accuracy: 0.9583\n",
            "Epoch 79/200\n",
            "20/20 [==============================] - 0s 3ms/step - loss: 0.4171 - accuracy: 0.8229 - val_loss: 0.2725 - val_accuracy: 0.9583\n",
            "Epoch 80/200\n",
            "20/20 [==============================] - 0s 3ms/step - loss: 0.3613 - accuracy: 0.8646 - val_loss: 0.2555 - val_accuracy: 0.9583\n",
            "Epoch 81/200\n",
            "20/20 [==============================] - 0s 4ms/step - loss: 0.4626 - accuracy: 0.8125 - val_loss: 0.2618 - val_accuracy: 0.9583\n",
            "Epoch 82/200\n",
            "20/20 [==============================] - 0s 3ms/step - loss: 0.3464 - accuracy: 0.8646 - val_loss: 0.2511 - val_accuracy: 0.9583\n",
            "Epoch 83/200\n",
            "20/20 [==============================] - 0s 3ms/step - loss: 0.3436 - accuracy: 0.8854 - val_loss: 0.2461 - val_accuracy: 0.9583\n",
            "Epoch 84/200\n",
            "20/20 [==============================] - 0s 3ms/step - loss: 0.3099 - accuracy: 0.8958 - val_loss: 0.2307 - val_accuracy: 0.9583\n",
            "Epoch 85/200\n",
            "20/20 [==============================] - 0s 3ms/step - loss: 0.3666 - accuracy: 0.8854 - val_loss: 0.2095 - val_accuracy: 0.9583\n",
            "Epoch 86/200\n",
            "20/20 [==============================] - 0s 3ms/step - loss: 0.4097 - accuracy: 0.8542 - val_loss: 0.2284 - val_accuracy: 0.9583\n",
            "Epoch 87/200\n",
            "20/20 [==============================] - 0s 3ms/step - loss: 0.3575 - accuracy: 0.8750 - val_loss: 0.2241 - val_accuracy: 0.9583\n",
            "Epoch 88/200\n",
            "20/20 [==============================] - 0s 3ms/step - loss: 0.3691 - accuracy: 0.8750 - val_loss: 0.2332 - val_accuracy: 0.9583\n",
            "Epoch 89/200\n",
            "20/20 [==============================] - 0s 4ms/step - loss: 0.3139 - accuracy: 0.8958 - val_loss: 0.2209 - val_accuracy: 0.9583\n",
            "Epoch 90/200\n",
            "20/20 [==============================] - 0s 3ms/step - loss: 0.3923 - accuracy: 0.8438 - val_loss: 0.2255 - val_accuracy: 0.9583\n",
            "Epoch 91/200\n",
            "20/20 [==============================] - 0s 3ms/step - loss: 0.4495 - accuracy: 0.8333 - val_loss: 0.2390 - val_accuracy: 0.9583\n",
            "Epoch 92/200\n",
            "20/20 [==============================] - 0s 4ms/step - loss: 0.5005 - accuracy: 0.7812 - val_loss: 0.2336 - val_accuracy: 0.9583\n",
            "Epoch 93/200\n",
            "20/20 [==============================] - 0s 3ms/step - loss: 0.4080 - accuracy: 0.8438 - val_loss: 0.2320 - val_accuracy: 0.9583\n",
            "Epoch 94/200\n",
            "20/20 [==============================] - 0s 3ms/step - loss: 0.4004 - accuracy: 0.8438 - val_loss: 0.2408 - val_accuracy: 0.9583\n",
            "Epoch 95/200\n",
            "20/20 [==============================] - 0s 4ms/step - loss: 0.3478 - accuracy: 0.8750 - val_loss: 0.2324 - val_accuracy: 0.9583\n",
            "Epoch 96/200\n",
            "20/20 [==============================] - 0s 3ms/step - loss: 0.3391 - accuracy: 0.8854 - val_loss: 0.2327 - val_accuracy: 0.9583\n",
            "Epoch 97/200\n",
            "20/20 [==============================] - 0s 3ms/step - loss: 0.3329 - accuracy: 0.8854 - val_loss: 0.2776 - val_accuracy: 0.9583\n",
            "Epoch 98/200\n",
            "20/20 [==============================] - 0s 4ms/step - loss: 0.3782 - accuracy: 0.8438 - val_loss: 0.2173 - val_accuracy: 0.9583\n",
            "Epoch 99/200\n",
            "20/20 [==============================] - 0s 4ms/step - loss: 0.4067 - accuracy: 0.8646 - val_loss: 0.2260 - val_accuracy: 0.9583\n",
            "Epoch 100/200\n",
            "20/20 [==============================] - 0s 3ms/step - loss: 0.4142 - accuracy: 0.8438 - val_loss: 0.2597 - val_accuracy: 0.9583\n",
            "Epoch 101/200\n",
            "20/20 [==============================] - 0s 4ms/step - loss: 0.3141 - accuracy: 0.8854 - val_loss: 0.2365 - val_accuracy: 0.9583\n",
            "Epoch 102/200\n",
            "20/20 [==============================] - 0s 4ms/step - loss: 0.4158 - accuracy: 0.8333 - val_loss: 0.2285 - val_accuracy: 0.9583\n",
            "Epoch 103/200\n",
            "20/20 [==============================] - 0s 3ms/step - loss: 0.4721 - accuracy: 0.8125 - val_loss: 0.2139 - val_accuracy: 0.9583\n",
            "Epoch 104/200\n",
            "20/20 [==============================] - 0s 3ms/step - loss: 0.4228 - accuracy: 0.8229 - val_loss: 0.2237 - val_accuracy: 0.9583\n",
            "Epoch 105/200\n",
            "20/20 [==============================] - 0s 4ms/step - loss: 0.3975 - accuracy: 0.8438 - val_loss: 0.2179 - val_accuracy: 0.9583\n",
            "Epoch 106/200\n",
            "20/20 [==============================] - 0s 3ms/step - loss: 0.3900 - accuracy: 0.8542 - val_loss: 0.2348 - val_accuracy: 0.9583\n",
            "Epoch 107/200\n",
            "20/20 [==============================] - 0s 3ms/step - loss: 0.4234 - accuracy: 0.8125 - val_loss: 0.2429 - val_accuracy: 0.9583\n",
            "Epoch 108/200\n",
            "20/20 [==============================] - 0s 4ms/step - loss: 0.4298 - accuracy: 0.8438 - val_loss: 0.2383 - val_accuracy: 0.9583\n",
            "Epoch 109/200\n",
            "20/20 [==============================] - 0s 3ms/step - loss: 0.2793 - accuracy: 0.9167 - val_loss: 0.2449 - val_accuracy: 0.9583\n",
            "Epoch 110/200\n",
            "20/20 [==============================] - 0s 3ms/step - loss: 0.5192 - accuracy: 0.7917 - val_loss: 0.2530 - val_accuracy: 0.9583\n",
            "Epoch 111/200\n",
            "20/20 [==============================] - 0s 4ms/step - loss: 0.3456 - accuracy: 0.8542 - val_loss: 0.2463 - val_accuracy: 0.9583\n",
            "Epoch 112/200\n",
            "20/20 [==============================] - 0s 4ms/step - loss: 0.4001 - accuracy: 0.8438 - val_loss: 0.2157 - val_accuracy: 0.9583\n",
            "Epoch 113/200\n",
            "20/20 [==============================] - 0s 3ms/step - loss: 0.3686 - accuracy: 0.8646 - val_loss: 0.2388 - val_accuracy: 0.9583\n",
            "Epoch 114/200\n",
            "20/20 [==============================] - 0s 3ms/step - loss: 0.3225 - accuracy: 0.8958 - val_loss: 0.2380 - val_accuracy: 0.9583\n",
            "Epoch 115/200\n",
            "20/20 [==============================] - 0s 4ms/step - loss: 0.3269 - accuracy: 0.8958 - val_loss: 0.2405 - val_accuracy: 0.9583\n",
            "Epoch 116/200\n",
            "20/20 [==============================] - 0s 4ms/step - loss: 0.4997 - accuracy: 0.8021 - val_loss: 0.2405 - val_accuracy: 0.9583\n",
            "Epoch 117/200\n",
            "20/20 [==============================] - 0s 3ms/step - loss: 0.3381 - accuracy: 0.8750 - val_loss: 0.2485 - val_accuracy: 0.9583\n",
            "Epoch 118/200\n",
            "20/20 [==============================] - 0s 4ms/step - loss: 0.3624 - accuracy: 0.8542 - val_loss: 0.2594 - val_accuracy: 0.9583\n",
            "Epoch 119/200\n",
            "20/20 [==============================] - 0s 4ms/step - loss: 0.4571 - accuracy: 0.8229 - val_loss: 0.2678 - val_accuracy: 0.9583\n",
            "Epoch 120/200\n",
            "20/20 [==============================] - 0s 3ms/step - loss: 0.2722 - accuracy: 0.9167 - val_loss: 0.2733 - val_accuracy: 0.9583\n",
            "Epoch 121/200\n",
            "20/20 [==============================] - 0s 4ms/step - loss: 0.3651 - accuracy: 0.8542 - val_loss: 0.2594 - val_accuracy: 0.9583\n",
            "Epoch 122/200\n",
            "20/20 [==============================] - 0s 3ms/step - loss: 0.3905 - accuracy: 0.8438 - val_loss: 0.2815 - val_accuracy: 0.9583\n",
            "Epoch 123/200\n",
            "20/20 [==============================] - 0s 4ms/step - loss: 0.3667 - accuracy: 0.8646 - val_loss: 0.2339 - val_accuracy: 0.9583\n",
            "Epoch 124/200\n",
            "20/20 [==============================] - 0s 5ms/step - loss: 0.4220 - accuracy: 0.8542 - val_loss: 0.2479 - val_accuracy: 0.9583\n",
            "Epoch 125/200\n",
            "20/20 [==============================] - 0s 3ms/step - loss: 0.3264 - accuracy: 0.8750 - val_loss: 0.2512 - val_accuracy: 0.9583\n",
            "Epoch 126/200\n",
            "20/20 [==============================] - 0s 4ms/step - loss: 0.3899 - accuracy: 0.8333 - val_loss: 0.2577 - val_accuracy: 0.9583\n",
            "Epoch 127/200\n",
            "20/20 [==============================] - 0s 3ms/step - loss: 0.3353 - accuracy: 0.8854 - val_loss: 0.2459 - val_accuracy: 0.9583\n",
            "Epoch 128/200\n",
            "20/20 [==============================] - 0s 4ms/step - loss: 0.3498 - accuracy: 0.8646 - val_loss: 0.2553 - val_accuracy: 0.9583\n",
            "Epoch 129/200\n",
            "20/20 [==============================] - 0s 3ms/step - loss: 0.3227 - accuracy: 0.8854 - val_loss: 0.2653 - val_accuracy: 0.9583\n",
            "Epoch 130/200\n",
            "20/20 [==============================] - 0s 4ms/step - loss: 0.4456 - accuracy: 0.8229 - val_loss: 0.2871 - val_accuracy: 0.9583\n",
            "Epoch 131/200\n",
            "20/20 [==============================] - 0s 3ms/step - loss: 0.3044 - accuracy: 0.8854 - val_loss: 0.2824 - val_accuracy: 0.9583\n",
            "Epoch 132/200\n",
            "20/20 [==============================] - 0s 4ms/step - loss: 0.3808 - accuracy: 0.8542 - val_loss: 0.2709 - val_accuracy: 0.9583\n",
            "Epoch 133/200\n",
            "20/20 [==============================] - 0s 4ms/step - loss: 0.4003 - accuracy: 0.8542 - val_loss: 0.2475 - val_accuracy: 0.9583\n",
            "Epoch 134/200\n",
            "20/20 [==============================] - 0s 4ms/step - loss: 0.3598 - accuracy: 0.8646 - val_loss: 0.2462 - val_accuracy: 0.9583\n",
            "Epoch 135/200\n",
            "20/20 [==============================] - 0s 3ms/step - loss: 0.3002 - accuracy: 0.8958 - val_loss: 0.2557 - val_accuracy: 0.9583\n",
            "Epoch 136/200\n",
            "20/20 [==============================] - 0s 3ms/step - loss: 0.4887 - accuracy: 0.7812 - val_loss: 0.2519 - val_accuracy: 0.9583\n",
            "Epoch 137/200\n",
            "20/20 [==============================] - 0s 4ms/step - loss: 0.3744 - accuracy: 0.8646 - val_loss: 0.2329 - val_accuracy: 0.9583\n",
            "Epoch 138/200\n",
            "20/20 [==============================] - 0s 3ms/step - loss: 0.3336 - accuracy: 0.8854 - val_loss: 0.2340 - val_accuracy: 0.9583\n",
            "Epoch 139/200\n",
            "20/20 [==============================] - 0s 4ms/step - loss: 0.4006 - accuracy: 0.8438 - val_loss: 0.2386 - val_accuracy: 0.9583\n",
            "Epoch 140/200\n",
            "20/20 [==============================] - 0s 4ms/step - loss: 0.3582 - accuracy: 0.8750 - val_loss: 0.2463 - val_accuracy: 0.9583\n",
            "Epoch 141/200\n",
            "20/20 [==============================] - 0s 3ms/step - loss: 0.3771 - accuracy: 0.8542 - val_loss: 0.2486 - val_accuracy: 0.9583\n",
            "Epoch 142/200\n",
            "20/20 [==============================] - 0s 4ms/step - loss: 0.3228 - accuracy: 0.8958 - val_loss: 0.2431 - val_accuracy: 0.9583\n",
            "Epoch 143/200\n",
            "20/20 [==============================] - 0s 4ms/step - loss: 0.2523 - accuracy: 0.9271 - val_loss: 0.2552 - val_accuracy: 0.9583\n",
            "Epoch 144/200\n",
            "20/20 [==============================] - 0s 4ms/step - loss: 0.3609 - accuracy: 0.8646 - val_loss: 0.2441 - val_accuracy: 0.9583\n",
            "Epoch 145/200\n",
            "20/20 [==============================] - 0s 4ms/step - loss: 0.3590 - accuracy: 0.8750 - val_loss: 0.2497 - val_accuracy: 0.9583\n",
            "Epoch 146/200\n",
            "20/20 [==============================] - 0s 3ms/step - loss: 0.4547 - accuracy: 0.8229 - val_loss: 0.2483 - val_accuracy: 0.9583\n",
            "Epoch 147/200\n",
            "20/20 [==============================] - 0s 3ms/step - loss: 0.3238 - accuracy: 0.8854 - val_loss: 0.2700 - val_accuracy: 0.9583\n",
            "Epoch 148/200\n",
            "20/20 [==============================] - 0s 3ms/step - loss: 0.3380 - accuracy: 0.8646 - val_loss: 0.2459 - val_accuracy: 0.9583\n",
            "Epoch 149/200\n",
            "20/20 [==============================] - 0s 3ms/step - loss: 0.3489 - accuracy: 0.8750 - val_loss: 0.2482 - val_accuracy: 0.9583\n",
            "Epoch 150/200\n",
            "20/20 [==============================] - 0s 4ms/step - loss: 0.4527 - accuracy: 0.8229 - val_loss: 0.2509 - val_accuracy: 0.9583\n",
            "Epoch 151/200\n",
            "20/20 [==============================] - 0s 4ms/step - loss: 0.3768 - accuracy: 0.8542 - val_loss: 0.2806 - val_accuracy: 0.9583\n",
            "Epoch 152/200\n",
            "20/20 [==============================] - 0s 4ms/step - loss: 0.3517 - accuracy: 0.8646 - val_loss: 0.2733 - val_accuracy: 0.9583\n",
            "Epoch 153/200\n",
            "20/20 [==============================] - 0s 3ms/step - loss: 0.3704 - accuracy: 0.8542 - val_loss: 0.2555 - val_accuracy: 0.9583\n",
            "Epoch 154/200\n",
            "20/20 [==============================] - 0s 3ms/step - loss: 0.3956 - accuracy: 0.8542 - val_loss: 0.2509 - val_accuracy: 0.9583\n",
            "Epoch 155/200\n",
            "20/20 [==============================] - 0s 3ms/step - loss: 0.3421 - accuracy: 0.8854 - val_loss: 0.2734 - val_accuracy: 0.9583\n",
            "Epoch 156/200\n",
            "20/20 [==============================] - 0s 3ms/step - loss: 0.4426 - accuracy: 0.8125 - val_loss: 0.2386 - val_accuracy: 0.9583\n",
            "Epoch 157/200\n",
            "20/20 [==============================] - 0s 3ms/step - loss: 0.3189 - accuracy: 0.8958 - val_loss: 0.2513 - val_accuracy: 0.9583\n",
            "Epoch 158/200\n",
            "20/20 [==============================] - 0s 4ms/step - loss: 0.4127 - accuracy: 0.8438 - val_loss: 0.2652 - val_accuracy: 0.9583\n",
            "Epoch 159/200\n",
            "20/20 [==============================] - 0s 4ms/step - loss: 0.3129 - accuracy: 0.9062 - val_loss: 0.2739 - val_accuracy: 0.9583\n",
            "Epoch 160/200\n",
            "20/20 [==============================] - 0s 3ms/step - loss: 0.3512 - accuracy: 0.8542 - val_loss: 0.2546 - val_accuracy: 0.9583\n",
            "Epoch 161/200\n",
            "20/20 [==============================] - 0s 3ms/step - loss: 0.2943 - accuracy: 0.9062 - val_loss: 0.2327 - val_accuracy: 0.9583\n",
            "Epoch 162/200\n",
            "20/20 [==============================] - 0s 3ms/step - loss: 0.3865 - accuracy: 0.8542 - val_loss: 0.2454 - val_accuracy: 0.9583\n",
            "Epoch 163/200\n",
            "20/20 [==============================] - 0s 3ms/step - loss: 0.2562 - accuracy: 0.9167 - val_loss: 0.2536 - val_accuracy: 0.9583\n",
            "Epoch 164/200\n",
            "20/20 [==============================] - 0s 3ms/step - loss: 0.2743 - accuracy: 0.9062 - val_loss: 0.2755 - val_accuracy: 0.9583\n",
            "Epoch 165/200\n",
            "20/20 [==============================] - 0s 3ms/step - loss: 0.3697 - accuracy: 0.8542 - val_loss: 0.2069 - val_accuracy: 0.9583\n",
            "Epoch 166/200\n",
            "20/20 [==============================] - 0s 3ms/step - loss: 0.4491 - accuracy: 0.8229 - val_loss: 0.2232 - val_accuracy: 0.9583\n",
            "Epoch 167/200\n",
            "20/20 [==============================] - 0s 3ms/step - loss: 0.3390 - accuracy: 0.8854 - val_loss: 0.2380 - val_accuracy: 0.9583\n",
            "Epoch 168/200\n",
            "20/20 [==============================] - 0s 4ms/step - loss: 0.3558 - accuracy: 0.8854 - val_loss: 0.2308 - val_accuracy: 0.9583\n",
            "Epoch 169/200\n",
            "20/20 [==============================] - 0s 3ms/step - loss: 0.2594 - accuracy: 0.9271 - val_loss: 0.2319 - val_accuracy: 0.9583\n",
            "Epoch 170/200\n",
            "20/20 [==============================] - 0s 4ms/step - loss: 0.3460 - accuracy: 0.8646 - val_loss: 0.2660 - val_accuracy: 0.9583\n",
            "Epoch 171/200\n",
            "20/20 [==============================] - 0s 4ms/step - loss: 0.3934 - accuracy: 0.8333 - val_loss: 0.2859 - val_accuracy: 0.9583\n",
            "Epoch 172/200\n",
            "20/20 [==============================] - 0s 3ms/step - loss: 0.2811 - accuracy: 0.9062 - val_loss: 0.2414 - val_accuracy: 0.9583\n",
            "Epoch 173/200\n",
            "20/20 [==============================] - 0s 4ms/step - loss: 0.4369 - accuracy: 0.8438 - val_loss: 0.2568 - val_accuracy: 0.9583\n",
            "Epoch 174/200\n",
            "20/20 [==============================] - 0s 4ms/step - loss: 0.3496 - accuracy: 0.8750 - val_loss: 0.2509 - val_accuracy: 0.9583\n",
            "Epoch 175/200\n",
            "20/20 [==============================] - 0s 3ms/step - loss: 0.3461 - accuracy: 0.8646 - val_loss: 0.2602 - val_accuracy: 0.9583\n",
            "Epoch 176/200\n",
            "20/20 [==============================] - 0s 4ms/step - loss: 0.4848 - accuracy: 0.8125 - val_loss: 0.2472 - val_accuracy: 0.9583\n",
            "Epoch 177/200\n",
            "20/20 [==============================] - 0s 4ms/step - loss: 0.3749 - accuracy: 0.8646 - val_loss: 0.2375 - val_accuracy: 0.9583\n",
            "Epoch 178/200\n",
            "20/20 [==============================] - 0s 4ms/step - loss: 0.3888 - accuracy: 0.8542 - val_loss: 0.2404 - val_accuracy: 0.9583\n",
            "Epoch 179/200\n",
            "20/20 [==============================] - 0s 3ms/step - loss: 0.3605 - accuracy: 0.8646 - val_loss: 0.2589 - val_accuracy: 0.9583\n",
            "Epoch 180/200\n",
            "20/20 [==============================] - 0s 3ms/step - loss: 0.3483 - accuracy: 0.8750 - val_loss: 0.2288 - val_accuracy: 0.9583\n",
            "Epoch 181/200\n",
            "20/20 [==============================] - 0s 4ms/step - loss: 0.3793 - accuracy: 0.8646 - val_loss: 0.2428 - val_accuracy: 0.9583\n",
            "Epoch 182/200\n",
            "20/20 [==============================] - 0s 3ms/step - loss: 0.3446 - accuracy: 0.8646 - val_loss: 0.2374 - val_accuracy: 0.9583\n",
            "Epoch 183/200\n",
            "20/20 [==============================] - 0s 3ms/step - loss: 0.4267 - accuracy: 0.8333 - val_loss: 0.2302 - val_accuracy: 0.9583\n",
            "Epoch 184/200\n",
            "20/20 [==============================] - 0s 4ms/step - loss: 0.4423 - accuracy: 0.8229 - val_loss: 0.2281 - val_accuracy: 0.9583\n",
            "Epoch 185/200\n",
            "20/20 [==============================] - 0s 3ms/step - loss: 0.2935 - accuracy: 0.9062 - val_loss: 0.2564 - val_accuracy: 0.9583\n",
            "Epoch 186/200\n",
            "20/20 [==============================] - 0s 3ms/step - loss: 0.3609 - accuracy: 0.8438 - val_loss: 0.2681 - val_accuracy: 0.9583\n",
            "Epoch 187/200\n",
            "20/20 [==============================] - 0s 3ms/step - loss: 0.4602 - accuracy: 0.8021 - val_loss: 0.2195 - val_accuracy: 0.9583\n",
            "Epoch 188/200\n",
            "20/20 [==============================] - 0s 3ms/step - loss: 0.2799 - accuracy: 0.9167 - val_loss: 0.2414 - val_accuracy: 0.9583\n",
            "Epoch 189/200\n",
            "20/20 [==============================] - 0s 4ms/step - loss: 0.5125 - accuracy: 0.7917 - val_loss: 0.2654 - val_accuracy: 0.9583\n",
            "Epoch 190/200\n",
            "20/20 [==============================] - 0s 3ms/step - loss: 0.3964 - accuracy: 0.8542 - val_loss: 0.2459 - val_accuracy: 0.9583\n",
            "Epoch 191/200\n",
            "20/20 [==============================] - 0s 3ms/step - loss: 0.3570 - accuracy: 0.8646 - val_loss: 0.2525 - val_accuracy: 0.9583\n",
            "Epoch 192/200\n",
            "20/20 [==============================] - 0s 4ms/step - loss: 0.3387 - accuracy: 0.8854 - val_loss: 0.2528 - val_accuracy: 0.9583\n",
            "Epoch 193/200\n",
            "20/20 [==============================] - 0s 3ms/step - loss: 0.3217 - accuracy: 0.8854 - val_loss: 0.2898 - val_accuracy: 0.9583\n",
            "Epoch 194/200\n",
            "20/20 [==============================] - 0s 3ms/step - loss: 0.4753 - accuracy: 0.7917 - val_loss: 0.2490 - val_accuracy: 0.9583\n",
            "Epoch 195/200\n",
            "20/20 [==============================] - 0s 3ms/step - loss: 0.3310 - accuracy: 0.8750 - val_loss: 0.2214 - val_accuracy: 0.9583\n",
            "Epoch 196/200\n",
            "20/20 [==============================] - 0s 3ms/step - loss: 0.3632 - accuracy: 0.8646 - val_loss: 0.2364 - val_accuracy: 0.9583\n",
            "Epoch 197/200\n",
            "20/20 [==============================] - 0s 4ms/step - loss: 0.3457 - accuracy: 0.8750 - val_loss: 0.2589 - val_accuracy: 0.9583\n",
            "Epoch 198/200\n",
            "20/20 [==============================] - 0s 4ms/step - loss: 0.3616 - accuracy: 0.8646 - val_loss: 0.2907 - val_accuracy: 0.9583\n",
            "Epoch 199/200\n",
            "20/20 [==============================] - 0s 3ms/step - loss: 0.2546 - accuracy: 0.9062 - val_loss: 0.2438 - val_accuracy: 0.9583\n",
            "Epoch 200/200\n",
            "20/20 [==============================] - 0s 4ms/step - loss: 0.2370 - accuracy: 0.9271 - val_loss: 0.2409 - val_accuracy: 0.9583\n"
          ]
        }
      ],
      "source": [
        "# Train the model\n",
        "history = model.fit(train_x, train_y, epochs=200, batch_size=5, validation_split=.2)"
      ]
    },
    {
      "cell_type": "code",
      "source": [
        "import pandas as pd\n",
        "pd.DataFrame(history.history).plot()"
      ],
      "metadata": {
        "colab": {
          "base_uri": "https://localhost:8080/",
          "height": 282
        },
        "id": "TtG8l5lJQPh-",
        "outputId": "06747aeb-dbf1-440f-e6c1-06c4f2a64d51"
      },
      "execution_count": 48,
      "outputs": [
        {
          "output_type": "execute_result",
          "data": {
            "text/plain": [
              "<matplotlib.axes._subplots.AxesSubplot at 0x7f8c3547c590>"
            ]
          },
          "metadata": {},
          "execution_count": 48
        },
        {
          "output_type": "display_data",
          "data": {
            "image/png": "[encoded data removed]",
            "text/plain": [
              "<Figure size 432x288 with 1 Axes>"
            ]
          },
          "metadata": {
            "needs_background": "light"
          }
        }
      ]
    },
    {
      "cell_type": "markdown",
      "metadata": {
        "id": "Ho4cTZVEM9Fk"
      },
      "source": [
        "# <div style=\"direction:rtl;text-align:right;font-family:B Lotus, B Nazanin, Tahoma\">سوال 4:</div>\n",
        "<div style=\"direction:rtl;text-align:right;font-family:Tahoma\">\n",
        "مدل را روی داده های test ارزیابی کنید.\n",
        "<br>\n",
        "<b>راهنمایی: </b>\n",
        "از تابع model.evaluate استفاده کنید.\n",
        "</div>"
      ]
    },
    {
      "cell_type": "code",
      "execution_count": 49,
      "metadata": {
        "colab": {
          "base_uri": "https://localhost:8080/"
        },
        "id": "nONVi6gtM9Fk",
        "outputId": "87a61224-04f3-4775-8ddc-d6de13a0a075"
      },
      "outputs": [
        {
          "output_type": "stream",
          "name": "stdout",
          "text": [
            "1/1 [==============================] - 0s 19ms/step - loss: 0.0944 - accuracy: 0.9667\n",
            "Final test set loss: 0.094375\n",
            "Final test set accuracy: 0.966667\n"
          ]
        }
      ],
      "source": [
        "# Test on unseen data\n",
        "results = model.evaluate(test_x, test_y)\n",
        "\n",
        "print('Final test set loss: {:4f}'.format(results[0]))\n",
        "print('Final test set accuracy: {:4f}'.format(results[1]))"
      ]
    },
    {
      "cell_type": "markdown",
      "metadata": {
        "id": "76d7DRuMM9Fl"
      },
      "source": [
        "<div class=\"alert alert-block alert-info\">\n",
        "<div style=\"direction:rtl;text-align:right;font-family:B Lotus, B Nazanin, Tahoma\"> دوره مقدماتی یادگیری عمیق<br>علیرضا اخوان پور<br>پنج شنبه، ۱۸ و ۲۵ بهمن ۱۳۹۷<br>\n",
        "</div>\n",
        "<a href=\"http://class.vision\">Class.Vision</a> - <a href=\"http://AkhavanPour.ir\">AkhavanPour.ir</a> - <a href=\"https://github.com/Alireza-Akhavan/\">GitHub</a>\n",
        "\n",
        "</div>"
      ]
    }
  ],
  "metadata": {
    "kernelspec": {
      "display_name": "tensorflow",
      "language": "python",
      "name": "tensorflow"
    },
    "language_info": {
      "codemirror_mode": {
        "name": "ipython",
        "version": 3
      },
      "file_extension": ".py",
      "mimetype": "text/x-python",
      "name": "python",
      "nbconvert_exporter": "python",
      "pygments_lexer": "ipython3",
      "version": "3.6.8"
    },
    "colab": {
      "name": "ex1-mlp-iris.ipynb",
      "provenance": [],
      "include_colab_link": true
    }
  },
  "nbformat": 4,
  "nbformat_minor": 0
}