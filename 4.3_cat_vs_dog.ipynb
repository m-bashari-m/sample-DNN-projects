{
  "nbformat": 4,
  "nbformat_minor": 0,
  "metadata": {
    "colab": {
      "name": "4.3cat-vs-dog.ipynb",
      "provenance": [],
      "authorship_tag": "ABX9TyMij5XHUyIBgtWKrWuRnt+x",
      "include_colab_link": true
    },
    "kernelspec": {
      "name": "python3",
      "display_name": "Python 3"
    },
    "language_info": {
      "name": "python"
    },
    "accelerator": "GPU"
  },
  "cells": [
    {
      "cell_type": "markdown",
      "metadata": {
        "id": "view-in-github",
        "colab_type": "text"
      },
      "source": [
        "<a href=\"https://colab.research.google.com/github/m-bashari-m/sample-DNN-projects/blob/main/4.3_cat_vs_dog.ipynb\" target=\"_parent\"><img src=\"https://colab.research.google.com/assets/colab-badge.svg\" alt=\"Open In Colab\"/></a>"
      ]
    },
    {
      "cell_type": "code",
      "execution_count": 269,
      "metadata": {
        "id": "2NVwHx1spvCF"
      },
      "outputs": [],
      "source": [
        "import tensorflow as tf\n",
        "import os\n",
        "\n",
        "_URL = 'https://storage.googleapis.com/mledu-datasets/cats_and_dogs_filtered.zip'\n",
        "\n",
        "path_to_zip = tf.keras.utils.get_file('cats_and_dogs.zip', origin=_URL, extract=True)\n",
        "\n",
        "PATH = os.path.join(os.path.dirname(path_to_zip), 'cats_and_dogs_filtered')\n",
        "\n",
        "train_dir =  \"/root/.keras/datasets/cats_and_dogs_filtered/train\"\n",
        "validation_dir = \"/root/.keras/datasets/cats_and_dogs_filtered/validation\""
      ]
    },
    {
      "cell_type": "code",
      "source": [
        "train_ds = tf.data.Dataset.list_files(str(train_dir+'/*/*'))\n",
        "val_ds = tf.data.Dataset.list_files(str(validation_dir+'/*/*'))"
      ],
      "metadata": {
        "id": "eiEMHlrBpv2m"
      },
      "execution_count": 270,
      "outputs": []
    },
    {
      "cell_type": "code",
      "source": [
        "for path in train_ds.take(5):\n",
        "  print(path)"
      ],
      "metadata": {
        "colab": {
          "base_uri": "https://localhost:8080/"
        },
        "id": "RlC8mxlQumcA",
        "outputId": "efcff32b-bad8-4b9d-fd64-e002d88cb5ef"
      },
      "execution_count": 271,
      "outputs": [
        {
          "output_type": "stream",
          "name": "stdout",
          "text": [
            "tf.Tensor(b'/root/.keras/datasets/cats_and_dogs_filtered/train/cats/cat.299.jpg', shape=(), dtype=string)\n",
            "tf.Tensor(b'/root/.keras/datasets/cats_and_dogs_filtered/train/cats/cat.747.jpg', shape=(), dtype=string)\n",
            "tf.Tensor(b'/root/.keras/datasets/cats_and_dogs_filtered/train/dogs/dog.222.jpg', shape=(), dtype=string)\n",
            "tf.Tensor(b'/root/.keras/datasets/cats_and_dogs_filtered/train/dogs/dog.697.jpg', shape=(), dtype=string)\n",
            "tf.Tensor(b'/root/.keras/datasets/cats_and_dogs_filtered/train/dogs/dog.341.jpg', shape=(), dtype=string)\n"
          ]
        }
      ]
    },
    {
      "cell_type": "code",
      "source": [
        "def prepare_labeled_data(path):\n",
        "  class_names = tf.constant(['cat', 'dog'])\n",
        "\n",
        "  categorical_label = tf.strings.split(path, '/')[-1]\n",
        "  categorical_label = tf.strings.split(categorical_label, '.')[0]\n",
        "  numerical_label = tf.cast(categorical_label == class_names[0], tf.int8) # cat=1, dog=0\n",
        "\n",
        "  image = tf.image.decode_image( tf.io.read_file(path), expand_animations=False )\n",
        "  \n",
        "  return image,  numerical_label"
      ],
      "metadata": {
        "id": "l-rKLkrmquoR"
      },
      "execution_count": 272,
      "outputs": []
    },
    {
      "cell_type": "code",
      "source": [
        "def augmentation(img):\n",
        "  img = tf.image.resize_with_crop_or_pad(img, 260, 260)\n",
        "  img = tf.image.random_crop(img, size=[256, 256, 3])\n",
        "  img = tf.image.random_brightness(img, max_delta=.2)\n",
        "  img = tf.image.random_flip_left_right(img)\n",
        "  return img"
      ],
      "metadata": {
        "id": "JSWTmQxX1pyj"
      },
      "execution_count": 273,
      "outputs": []
    },
    {
      "cell_type": "code",
      "source": [
        "def normalization(img):\n",
        "  img = tf.image.convert_image_dtype(img, tf.float32)\n",
        "  return img / 255"
      ],
      "metadata": {
        "id": "H5sCM1rJ750M"
      },
      "execution_count": 274,
      "outputs": []
    },
    {
      "cell_type": "code",
      "source": [
        "def train_preprocessing(path):\n",
        "  img, label = prepare_labeled_data(path)\n",
        "  img = augmentation(img)\n",
        "  img = normalization(img)\n",
        "  return img, label"
      ],
      "metadata": {
        "id": "YlMUNFGZzLQ-"
      },
      "execution_count": 275,
      "outputs": []
    },
    {
      "cell_type": "code",
      "source": [
        "def test_preprocessing(path):\n",
        "  img, label = prepare_labeled_data(path)\n",
        "  img = normalization(img)\n",
        "  img = tf.image.resize(img, [256, 256])\n",
        "  return img, label"
      ],
      "metadata": {
        "id": "N9AAX4IQq0CN"
      },
      "execution_count": 276,
      "outputs": []
    },
    {
      "cell_type": "code",
      "source": [
        "BATCH_SIZE=64\n",
        "AUTOTUNE = tf.data.AUTOTUNE\n",
        "BUFFER_SIZE=1000"
      ],
      "metadata": {
        "id": "UNPqm5fs9Df4"
      },
      "execution_count": 277,
      "outputs": []
    },
    {
      "cell_type": "code",
      "source": [
        "train_ds = train_ds.map(train_preprocessing).shuffle(BUFFER_SIZE).batch(BATCH_SIZE).prefetch(AUTOTUNE)\n",
        "val_ds = val_ds.map(test_preprocessing).batch(BATCH_SIZE).prefetch(AUTOTUNE)"
      ],
      "metadata": {
        "id": "SJncam6bArD1"
      },
      "execution_count": 278,
      "outputs": []
    },
    {
      "cell_type": "code",
      "source": [
        "for img, lbl in train_ds.take(3):\n",
        "  print(img.shape)"
      ],
      "metadata": {
        "id": "9VYX2khMCNF6",
        "outputId": "8d51c279-75f6-49d6-a4ad-93d7595be3ea",
        "colab": {
          "base_uri": "https://localhost:8080/"
        }
      },
      "execution_count": 279,
      "outputs": [
        {
          "output_type": "stream",
          "name": "stdout",
          "text": [
            "(64, 256, 256, 3)\n",
            "(64, 256, 256, 3)\n",
            "(64, 256, 256, 3)\n"
          ]
        }
      ]
    },
    {
      "cell_type": "code",
      "source": [
        "class NormalizationAndActivation(tf.keras.layers.Layer):\n",
        "  def __init__(self, activation='relu', **kwargs):\n",
        "    super(NormalizationAndActivation, self).__init__(**kwargs)\n",
        "    self.activation = tf.keras.activations.get(activation)\n",
        "    self.batch_norm = tf.keras.layers.BatchNormalization()\n",
        "\n",
        "  def call(self, X):\n",
        "    return self.batch_norm(self.activation(X))\n"
      ],
      "metadata": {
        "id": "TvPuC2NasJHF"
      },
      "execution_count": 280,
      "outputs": []
    },
    {
      "cell_type": "code",
      "source": [
        "class CatVsDog(tf.keras.models.Model):\n",
        "  def __init__(self, num_classes=2, activation='relu', **kwargs):\n",
        "    super(CatVsDog, self).__init__(**kwargs)\n",
        "\n",
        "    self.model_layers = [\n",
        "                   tf.keras.layers.Conv2D(64, (3,3), strides=(2,2), padding='same', name='conv_1_1'),\n",
        "                   NormalizationAndActivation(name='bn_1_2'),\n",
        "                   tf.keras.layers.Conv2D(64, (3,3), strides=(2,2), padding='same', name='conv_2_3'),\n",
        "                   NormalizationAndActivation(name='bn_2_4'),\n",
        "                   tf.keras.layers.MaxPooling2D(2, name='max_pool_1_5'),\n",
        "\n",
        "                   tf.keras.layers.Conv2D(128, (3,3), strides=(2,2), padding='same', name='conv_3_6'),\n",
        "                   NormalizationAndActivation(name='bn_3_7'),\n",
        "                   tf.keras.layers.Conv2D(128, (3,3), strides=(2,2), padding='same', name='conv_4_8'),\n",
        "                   NormalizationAndActivation(name='bn_4_9'),\n",
        "                   tf.keras.layers.MaxPooling2D(2, name='max_pool_2_10'),\n",
        "                   \n",
        "                   tf.keras.layers.Conv2D(512, (3,3), strides=(2,2), padding='same', name='conv_5_11'),\n",
        "                   NormalizationAndActivation(name='bn_5_12'),\n",
        "                   tf.keras.layers.Conv2D(512, (3,3), strides=(2,2), padding='same', name='conv_6_13'),\n",
        "                   NormalizationAndActivation(name='bn_6_14'),\n",
        "                  #  tf.keras.layers.MaxPooling2D(2, name='max_pool_3_15'),\n",
        "                   tf.keras.layers.Dropout(.2),\n",
        "\n",
        "                   tf.keras.layers.Conv2D(1024, (3,3), strides=(2,2), padding='same', name='conv_7_16'),\n",
        "                   NormalizationAndActivation(name='bn_7_17'),\n",
        "                   tf.keras.layers.Conv2D(1024, (3,3), strides=(2,2), padding='same', name='conv_8_18'),\n",
        "                   NormalizationAndActivation(name='bn_8_19'),\n",
        "                  #  tf.keras.layers.MaxPooling2D(2, name='max_pool_4_20'),\n",
        "                   tf.keras.layers.Dropout(.2),\n",
        "\n",
        "                   tf.keras.layers.Conv2D(2048, (3,3), strides=(2,2), padding='same', name='conv_9_21'),\n",
        "                   NormalizationAndActivation(name='bn_9_22'),\n",
        "                   tf.keras.layers.Conv2D(2048, (3,3), strides=(2,2), padding='same', name='conv_10_23'),\n",
        "                   NormalizationAndActivation(name='bn_10_24'),\n",
        "                   tf.keras.layers.MaxPooling2D(2, name='max_pool_5_25'),\n",
        "                   tf.keras.layers.Dropout(.2),\n",
        "                   \n",
        "                   tf.keras.layers.GlobalAveragePooling2D(name='avg_pool_1_26'),\n",
        "                   tf.keras.layers.Flatten(),\n",
        "                   tf.keras.layers.Dense(200, name='dense_1_27'),\n",
        "                   NormalizationAndActivation(name='bn_11_28'),\n",
        "                   tf.keras.layers.Dropout(.5),\n",
        "                   tf.keras.layers.Dense(num_classes, name='classifier')]\n",
        "  \n",
        "\n",
        "  def call(self, X):\n",
        "    for layer in self.model_layers:\n",
        "      X = layer(X)\n",
        "\n",
        "    return X"
      ],
      "metadata": {
        "id": "yAr4IX4JCVmF"
      },
      "execution_count": 281,
      "outputs": []
    },
    {
      "cell_type": "code",
      "source": [
        "from tensorflow.python.framework.tensor_conversion_registry import get\n",
        "class CatVsDog(tf.keras.models.Model):\n",
        "  def __init__(self, num_classes=2, activation='relu', **kwargs):\n",
        "    super(CatVsDog, self).__init__(**kwargs)\n",
        "\n",
        "    self.model_layers = [\n",
        "                   tf.keras.layers.Conv2D(64, (3,3), padding='same', name='conv_1_1'),\n",
        "                   tf.keras.layers.Activation(activation),\n",
        "                   tf.keras.layers.Conv2D(64, (3,3), padding='same', name='conv_2_3'),\n",
        "                   NormalizationAndActivation(name='bn_2_4'),\n",
        "                   tf.keras.layers.MaxPooling2D(2, name='max_pool_1_5'),\n",
        "\n",
        "                   tf.keras.layers.Conv2D(128, (3,3), padding='same', name='conv_3_6'),\n",
        "                   tf.keras.layers.Activation(activation),\n",
        "                   tf.keras.layers.Conv2D(128, (3,3), padding='same', name='conv_4_8'),\n",
        "                   NormalizationAndActivation(name='bn_4_9'),\n",
        "                   tf.keras.layers.MaxPooling2D(2, name='max_pool_2_10'),\n",
        "                   \n",
        "                   tf.keras.layers.Conv2D(512, (3,3), padding='same', name='conv_5_11'),\n",
        "                   tf.keras.layers.Activation(activation),\n",
        "                   tf.keras.layers.Conv2D(512, (3,3), padding='same', name='conv_6_13'),\n",
        "                   NormalizationAndActivation(name='bn_6_14'),\n",
        "                   tf.keras.layers.MaxPooling2D(2, name='max_pool_3_15'),\n",
        "                   tf.keras.layers.Dropout(.2),\n",
        "\n",
        "                   tf.keras.layers.Conv2D(1024, (3,3), padding='same', name='conv_7_16'),\n",
        "                   tf.keras.layers.Activation(activation),\n",
        "                   tf.keras.layers.Conv2D(1024, (3,3), padding='same', name='conv_8_18'),\n",
        "                   NormalizationAndActivation(name='bn_8_19'),\n",
        "                   tf.keras.layers.MaxPooling2D(2, name='max_pool_4_20'),\n",
        "                   tf.keras.layers.Dropout(.2),\n",
        "                   \n",
        "                   tf.keras.layers.GlobalAveragePooling2D(name='avg_pool_1_26'),\n",
        "                   tf.keras.layers.Flatten(),\n",
        "                   tf.keras.layers.Dense(200, name='dense_1_27'),\n",
        "                   NormalizationAndActivation(name='bn_11_28'),\n",
        "                   tf.keras.layers.Dropout(.5),\n",
        "                   tf.keras.layers.Dense(num_classes, name='classifier')]\n",
        "  \n",
        "\n",
        "  def call(self, X):\n",
        "    for layer in self.model_layers:\n",
        "      X = layer(X)\n",
        "\n",
        "    return X"
      ],
      "metadata": {
        "id": "wa2jGKbGD9nv"
      },
      "execution_count": 282,
      "outputs": []
    },
    {
      "cell_type": "code",
      "source": [
        "import os\n",
        "\n",
        "path = '/content/checkpoints'\n",
        "try:\n",
        "    os.mkdir(path)\n",
        "except OSError as error:\n",
        "    pass\n",
        "\n",
        "checkpoint = tf.keras.callbacks.ModelCheckpoint(path, save_wights_only=True)\n"
      ],
      "metadata": {
        "id": "S8RNWqghx0q9"
      },
      "execution_count": 283,
      "outputs": []
    },
    {
      "cell_type": "code",
      "source": [
        "model = CatVsDog()\n",
        "\n",
        "model.compile(loss=tf.keras.losses.BinaryCrossentropy(),\n",
        "              optimizer=tf.keras.optimizers.Nadam(),\n",
        "              metrics=['accuracy'])"
      ],
      "metadata": {
        "id": "WfDG_qkFvlM_"
      },
      "execution_count": 284,
      "outputs": []
    },
    {
      "cell_type": "code",
      "source": [
        "model.fit(train_ds, \n",
        "          epochs=25,\n",
        "          batch_size=128,\n",
        "          validation_data=val_ds,\n",
        "          callbacks=[checkpoint])"
      ],
      "metadata": {
        "id": "5aPqNMH3wr4z",
        "outputId": "ded4650a-bdcf-4fd5-da29-ef413f5e7fa2",
        "colab": {
          "base_uri": "https://localhost:8080/"
        }
      },
      "execution_count": null,
      "outputs": [
        {
          "output_type": "stream",
          "name": "stdout",
          "text": [
            "Epoch 1/25\n",
            "20/32 [=================>............] - ETA: 1:18 - loss: 6.5103 - accuracy: 0.5117"
          ]
        }
      ]
    },
    {
      "cell_type": "code",
      "source": [
        "tf.keras.utils.plot_model(model, 'model1.png', show_shapes=True)"
      ],
      "metadata": {
        "id": "SCIgnIZtwFox"
      },
      "execution_count": null,
      "outputs": []
    },
    {
      "cell_type": "code",
      "source": [
        ""
      ],
      "metadata": {
        "id": "ieOJCKHqwdIX"
      },
      "execution_count": null,
      "outputs": []
    }
  ]
}